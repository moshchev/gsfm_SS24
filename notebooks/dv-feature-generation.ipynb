{
 "cells": [
  {
   "cell_type": "code",
   "execution_count": 26,
   "metadata": {},
   "outputs": [],
   "source": [
    "import pandas as pd\n",
    "import numpy as np\n",
    "import polars as pl"
   ]
  },
  {
   "cell_type": "markdown",
   "metadata": {},
   "source": [
    "# Imports"
   ]
  },
  {
   "cell_type": "code",
   "execution_count": 18,
   "metadata": {},
   "outputs": [],
   "source": [
    "file_path_forecasts = r\"C:\\Users\\mariu\\Downloads\\dataset2014-2022-v3.csv\"\n",
    "file_path_company = r\"C:\\Users\\mariu\\Downloads\\dataset-company-industry-data-v1.csv\"\n",
    "\n",
    "df = pd.read_csv(file_path_forecasts)\n",
    "df2 = pd.read_csv(file_path_company)"
   ]
  },
  {
   "cell_type": "markdown",
   "metadata": {},
   "source": [
    "# Merge"
   ]
  },
  {
   "cell_type": "code",
   "execution_count": 41,
   "metadata": {},
   "outputs": [],
   "source": [
    "def join_fundamentals(df,df2):\n",
    "    df = df.rename(columns={col: col.lower() for col in df.columns})\n",
    "    \n",
    "    result = df.merge(df2[[\"tic\", \"sic\"]], how=\"left\", left_on=\"oftic\", right_on=\"tic\")\n",
    "    \n",
    "    num_join_fails = result[\"sic\"].isna().sum()\n",
    "    \n",
    "    print(f\"The number of failed merges is: {num_join_fails}\")\n",
    "    return result"
   ]
  },
  {
   "cell_type": "code",
   "execution_count": 42,
   "metadata": {},
   "outputs": [
    {
     "name": "stdout",
     "output_type": "stream",
     "text": [
      "The number of failed merges is: 255745\n"
     ]
    }
   ],
   "source": [
    "merged_df = join_fundamentals(df,df2)"
   ]
  },
  {
   "cell_type": "code",
   "execution_count": 43,
   "metadata": {},
   "outputs": [
    {
     "data": {
      "text/html": [
       "<div>\n",
       "<style scoped>\n",
       "    .dataframe tbody tr th:only-of-type {\n",
       "        vertical-align: middle;\n",
       "    }\n",
       "\n",
       "    .dataframe tbody tr th {\n",
       "        vertical-align: top;\n",
       "    }\n",
       "\n",
       "    .dataframe thead th {\n",
       "        text-align: right;\n",
       "    }\n",
       "</style>\n",
       "<table border=\"1\" class=\"dataframe\">\n",
       "  <thead>\n",
       "    <tr style=\"text-align: right;\">\n",
       "      <th></th>\n",
       "      <th>ticker</th>\n",
       "      <th>cusip</th>\n",
       "      <th>oftic</th>\n",
       "      <th>cname</th>\n",
       "      <th>estimator</th>\n",
       "      <th>analys</th>\n",
       "      <th>fpi</th>\n",
       "      <th>measure</th>\n",
       "      <th>value</th>\n",
       "      <th>fpedats</th>\n",
       "      <th>revdats</th>\n",
       "      <th>anndats</th>\n",
       "      <th>actual</th>\n",
       "      <th>anndats_act</th>\n",
       "      <th>tic</th>\n",
       "      <th>sic</th>\n",
       "    </tr>\n",
       "  </thead>\n",
       "  <tbody>\n",
       "    <tr>\n",
       "      <th>0</th>\n",
       "      <td>0000</td>\n",
       "      <td>87482X10</td>\n",
       "      <td>TLMR</td>\n",
       "      <td>TALMER BANCORP</td>\n",
       "      <td>2500</td>\n",
       "      <td>72481</td>\n",
       "      <td>1</td>\n",
       "      <td>EPS</td>\n",
       "      <td>1.20</td>\n",
       "      <td>2014-12-31</td>\n",
       "      <td>2014-12-03</td>\n",
       "      <td>2014-12-03</td>\n",
       "      <td>1.21</td>\n",
       "      <td>2015-01-30</td>\n",
       "      <td>TLMR</td>\n",
       "      <td>6020.0</td>\n",
       "    </tr>\n",
       "    <tr>\n",
       "      <th>1</th>\n",
       "      <td>0000</td>\n",
       "      <td>87482X10</td>\n",
       "      <td>TLMR</td>\n",
       "      <td>TALMER BANCORP</td>\n",
       "      <td>2500</td>\n",
       "      <td>72481</td>\n",
       "      <td>1</td>\n",
       "      <td>EPS</td>\n",
       "      <td>1.20</td>\n",
       "      <td>2014-12-31</td>\n",
       "      <td>2014-12-03</td>\n",
       "      <td>2014-12-03</td>\n",
       "      <td>1.21</td>\n",
       "      <td>2015-01-30</td>\n",
       "      <td>TLMR</td>\n",
       "      <td>6020.0</td>\n",
       "    </tr>\n",
       "    <tr>\n",
       "      <th>2</th>\n",
       "      <td>0000</td>\n",
       "      <td>87482X10</td>\n",
       "      <td>TLMR</td>\n",
       "      <td>TALMER BANCORP</td>\n",
       "      <td>2500</td>\n",
       "      <td>72481</td>\n",
       "      <td>1</td>\n",
       "      <td>EPS</td>\n",
       "      <td>1.20</td>\n",
       "      <td>2014-12-31</td>\n",
       "      <td>2014-12-03</td>\n",
       "      <td>2014-12-03</td>\n",
       "      <td>1.21</td>\n",
       "      <td>2015-01-30</td>\n",
       "      <td>TLMR</td>\n",
       "      <td>6020.0</td>\n",
       "    </tr>\n",
       "    <tr>\n",
       "      <th>3</th>\n",
       "      <td>0000</td>\n",
       "      <td>87482X10</td>\n",
       "      <td>TLMR</td>\n",
       "      <td>TALMER BANCORP</td>\n",
       "      <td>2500</td>\n",
       "      <td>72481</td>\n",
       "      <td>1</td>\n",
       "      <td>EPS</td>\n",
       "      <td>1.20</td>\n",
       "      <td>2014-12-31</td>\n",
       "      <td>2014-12-03</td>\n",
       "      <td>2014-12-03</td>\n",
       "      <td>1.21</td>\n",
       "      <td>2015-01-30</td>\n",
       "      <td>TLMR</td>\n",
       "      <td>6020.0</td>\n",
       "    </tr>\n",
       "    <tr>\n",
       "      <th>4</th>\n",
       "      <td>0000</td>\n",
       "      <td>87482X10</td>\n",
       "      <td>TLMR</td>\n",
       "      <td>TALMER BANCORP</td>\n",
       "      <td>2500</td>\n",
       "      <td>72481</td>\n",
       "      <td>1</td>\n",
       "      <td>EPS</td>\n",
       "      <td>0.85</td>\n",
       "      <td>2015-12-31</td>\n",
       "      <td>2015-02-18</td>\n",
       "      <td>2015-02-18</td>\n",
       "      <td>1.02</td>\n",
       "      <td>2016-01-26</td>\n",
       "      <td>TLMR</td>\n",
       "      <td>6020.0</td>\n",
       "    </tr>\n",
       "  </tbody>\n",
       "</table>\n",
       "</div>"
      ],
      "text/plain": [
       "  ticker     cusip oftic           cname  estimator  analys  fpi measure  \\\n",
       "0   0000  87482X10  TLMR  TALMER BANCORP       2500   72481    1     EPS   \n",
       "1   0000  87482X10  TLMR  TALMER BANCORP       2500   72481    1     EPS   \n",
       "2   0000  87482X10  TLMR  TALMER BANCORP       2500   72481    1     EPS   \n",
       "3   0000  87482X10  TLMR  TALMER BANCORP       2500   72481    1     EPS   \n",
       "4   0000  87482X10  TLMR  TALMER BANCORP       2500   72481    1     EPS   \n",
       "\n",
       "   value     fpedats     revdats     anndats  actual anndats_act   tic     sic  \n",
       "0   1.20  2014-12-31  2014-12-03  2014-12-03    1.21  2015-01-30  TLMR  6020.0  \n",
       "1   1.20  2014-12-31  2014-12-03  2014-12-03    1.21  2015-01-30  TLMR  6020.0  \n",
       "2   1.20  2014-12-31  2014-12-03  2014-12-03    1.21  2015-01-30  TLMR  6020.0  \n",
       "3   1.20  2014-12-31  2014-12-03  2014-12-03    1.21  2015-01-30  TLMR  6020.0  \n",
       "4   0.85  2015-12-31  2015-02-18  2015-02-18    1.02  2016-01-26  TLMR  6020.0  "
      ]
     },
     "execution_count": 43,
     "metadata": {},
     "output_type": "execute_result"
    }
   ],
   "source": [
    "merged_df.head()"
   ]
  },
  {
   "cell_type": "markdown",
   "metadata": {},
   "source": [
    "# Data set restrictions\n",
    "\n",
    "Restrictions should be implemented with respective functions\n",
    "\n",
    "- Sample horizon 10 - 20 years\n",
    "- Frequency: annual\n",
    "- Include only forecasts issued no earlier than 1 year ahead and no later than 30 days before fiscal year end\n",
    "- Exclude forecasts for companies which only one analyst provides a forecast\n",
    "- Exclude all analysts appearing in the initial 2-3 years of the dataset (migitating problem of experience)\n",
    "- (Retain the last forecast an analyst issues in a particular year)\n",
    "- Drop all unneccessary columns from df\n",
    "- ..."
   ]
  },
  {
   "cell_type": "markdown",
   "metadata": {},
   "source": [
    "# DV and Feature Generation\n",
    "\n",
    "Feature list (Proxies for analyst characteristics):\n",
    "\n",
    "- Forecasting ability/experience: number of years for which analyst i supplied at least one forecast during the first 11 months of the year through year t\n",
    "- Broker size: a dummy variable set to 1 if analyst i is employed by a firm in the top size decile during year t, and set to 0 otherwise. Size deciles are calculated based on the number of analysts employed in year t.\n",
    "- Complexity: number of firms for which analyst i supplied at least one forecast during the first 11 months of year t OR number of two-digit SICs for which analyst i supplied at least one forecast during the first 11 months of year t minus the average number of two-digit SICs followed by an analyst following firm j at time t.\n",
    "- Forecast age: age (in days) of analyst i's forecast for firm j's earnings at time t\n",
    "- \n"
   ]
  },
  {
   "cell_type": "code",
   "execution_count": 4,
   "metadata": {},
   "outputs": [
    {
     "data": {
      "text/plain": [
       "4821600.0"
      ]
     },
     "execution_count": 4,
     "metadata": {},
     "output_type": "execute_result"
    }
   ],
   "source": [
    "df[\"VALUE\"].max()"
   ]
  },
  {
   "cell_type": "code",
   "execution_count": 15,
   "metadata": {},
   "outputs": [
    {
     "data": {
      "text/plain": [
       "0"
      ]
     },
     "execution_count": 15,
     "metadata": {},
     "output_type": "execute_result"
    }
   ],
   "source": [
    "df[\"ANALYS\"].isna().sum()\n"
   ]
  },
  {
   "cell_type": "code",
   "execution_count": null,
   "metadata": {},
   "outputs": [],
   "source": []
  }
 ],
 "metadata": {
  "kernelspec": {
   "display_name": "Python 3",
   "language": "python",
   "name": "python3"
  },
  "language_info": {
   "codemirror_mode": {
    "name": "ipython",
    "version": 3
   },
   "file_extension": ".py",
   "mimetype": "text/x-python",
   "name": "python",
   "nbconvert_exporter": "python",
   "pygments_lexer": "ipython3",
   "version": "3.11.5"
  }
 },
 "nbformat": 4,
 "nbformat_minor": 2
}
