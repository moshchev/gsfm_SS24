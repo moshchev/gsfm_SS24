{
 "cells": [
  {
   "cell_type": "code",
   "execution_count": 6,
   "metadata": {},
   "outputs": [],
   "source": [
    "import pandas as pd\n",
    "from fuzzywuzzy import fuzz"
   ]
  },
  {
   "cell_type": "markdown",
   "metadata": {},
   "source": [
    "# SIC Codes"
   ]
  },
  {
   "cell_type": "code",
   "execution_count": 8,
   "metadata": {},
   "outputs": [],
   "source": [
    "ibes1 = pd.read_parquet('../data/raw/sic_processing_files/ibes_data_for_sic.parquet')"
   ]
  },
  {
   "cell_type": "code",
   "execution_count": 9,
   "metadata": {},
   "outputs": [
    {
     "data": {
      "text/plain": [
       "(93507, 4)"
      ]
     },
     "execution_count": 9,
     "metadata": {},
     "output_type": "execute_result"
    }
   ],
   "source": [
    "ibes1.shape"
   ]
  },
  {
   "cell_type": "code",
   "execution_count": 10,
   "metadata": {},
   "outputs": [
    {
     "data": {
      "text/html": [
       "<div>\n",
       "<style scoped>\n",
       "    .dataframe tbody tr th:only-of-type {\n",
       "        vertical-align: middle;\n",
       "    }\n",
       "\n",
       "    .dataframe tbody tr th {\n",
       "        vertical-align: top;\n",
       "    }\n",
       "\n",
       "    .dataframe thead th {\n",
       "        text-align: right;\n",
       "    }\n",
       "</style>\n",
       "<table border=\"1\" class=\"dataframe\">\n",
       "  <thead>\n",
       "    <tr style=\"text-align: right;\">\n",
       "      <th></th>\n",
       "      <th>ticker</th>\n",
       "      <th>cusip</th>\n",
       "      <th>cname</th>\n",
       "      <th>fdate</th>\n",
       "      <th>ldate</th>\n",
       "    </tr>\n",
       "  </thead>\n",
       "  <tbody>\n",
       "    <tr>\n",
       "      <th>1</th>\n",
       "      <td>0000</td>\n",
       "      <td>87482X10</td>\n",
       "      <td>TALMER BANCORP</td>\n",
       "      <td>2014-02-20</td>\n",
       "      <td>2014-03-20</td>\n",
       "    </tr>\n",
       "    <tr>\n",
       "      <th>6</th>\n",
       "      <td>0001</td>\n",
       "      <td>26878510</td>\n",
       "      <td>EP ENGR CORP</td>\n",
       "      <td>2014-02-20</td>\n",
       "      <td>2019-10-17</td>\n",
       "    </tr>\n",
       "    <tr>\n",
       "      <th>7</th>\n",
       "      <td>0004</td>\n",
       "      <td>02504D10</td>\n",
       "      <td>AMERICAN CAPITAL</td>\n",
       "      <td>2014-02-20</td>\n",
       "      <td>2014-02-20</td>\n",
       "    </tr>\n",
       "    <tr>\n",
       "      <th>8</th>\n",
       "      <td>000R</td>\n",
       "      <td>14163310</td>\n",
       "      <td>CARECOM</td>\n",
       "      <td>2014-02-20</td>\n",
       "      <td>2014-02-20</td>\n",
       "    </tr>\n",
       "    <tr>\n",
       "      <th>9</th>\n",
       "      <td>000V</td>\n",
       "      <td>15117E10</td>\n",
       "      <td>CELLADON</td>\n",
       "      <td>2014-03-20</td>\n",
       "      <td>2014-03-20</td>\n",
       "    </tr>\n",
       "  </tbody>\n",
       "</table>\n",
       "</div>"
      ],
      "text/plain": [
       "  ticker     cusip             cname      fdate      ldate\n",
       "1   0000  87482X10    TALMER BANCORP 2014-02-20 2014-03-20\n",
       "6   0001  26878510      EP ENGR CORP 2014-02-20 2019-10-17\n",
       "7   0004  02504D10  AMERICAN CAPITAL 2014-02-20 2014-02-20\n",
       "8   000R  14163310           CARECOM 2014-02-20 2014-02-20\n",
       "9   000V  15117E10          CELLADON 2014-03-20 2014-03-20"
      ]
     },
     "execution_count": 10,
     "metadata": {},
     "output_type": "execute_result"
    }
   ],
   "source": [
    "# summarizse data by last and first date in the mentioned in the table\n",
    "ibes1_date = ibes1.groupby([\"ticker\", \"cusip\"]).sdates.agg([\"min\", \"max\"]).reset_index().rename(columns={\"min\": \"fdate\", \"max\": \"ldate\"})\n",
    "\n",
    "# add data information in the main table\n",
    "ibes2 = pd.merge(ibes1,ibes1_date, how = \"left\", on = [\"ticker\", \"cusip\"])\n",
    "ibes2 = ibes2.sort_values(by = [\"ticker\", \"cusip\", \"sdates\"])\n",
    "\n",
    "# drop column that we dont need anymore and filter data based picking only the latest date erwähnt\n",
    "ibes2 = ibes2.loc[ibes2.sdates == ibes2.ldate].drop([\"sdates\"], axis=1)\n",
    "ibes2.head()\n"
   ]
  },
  {
   "cell_type": "code",
   "execution_count": 11,
   "metadata": {},
   "outputs": [
    {
     "data": {
      "text/plain": [
       "(39236, 5)"
      ]
     },
     "execution_count": 11,
     "metadata": {},
     "output_type": "execute_result"
    }
   ],
   "source": [
    "ibes2.shape"
   ]
  },
  {
   "cell_type": "code",
   "execution_count": 12,
   "metadata": {},
   "outputs": [],
   "source": [
    "crsp1 = pd.read_parquet('../data/raw/sic_processing_files/crsp_link.parquet')"
   ]
  },
  {
   "cell_type": "code",
   "execution_count": 13,
   "metadata": {},
   "outputs": [],
   "source": [
    "# first namedt\n",
    "crsp1_fnamedt = crsp1.groupby(['permno','ncusip']).namedt.min().reset_index()\n",
    "\n",
    "# last nameenddt\n",
    "crsp1_lnameenddt = crsp1.groupby(['permno','ncusip']).nameenddt.max().reset_index()\n",
    "\n",
    "# merge both \n",
    "crsp1_dtrange = pd.merge(crsp1_fnamedt, crsp1_lnameenddt, \\\n",
    "                          on = ['permno','ncusip'], how='inner')\n",
    "\n",
    "# replace namedt and nameenddt with the version from the dtrange\n",
    "crsp1 = crsp1.drop(['namedt'],axis=1).rename(columns={'nameenddt':'enddt'})\n",
    "crsp2 = pd.merge(crsp1, crsp1_dtrange, on =['permno','ncusip'], how='inner')\n",
    "\n",
    "# keep only most recent company name\n",
    "crsp2 = crsp2.loc[crsp2.enddt == crsp2.nameenddt].drop(['enddt'], axis=1)"
   ]
  },
  {
   "cell_type": "code",
   "execution_count": 14,
   "metadata": {},
   "outputs": [],
   "source": [
    "# 1.3 Create CUSIP Link Table\n",
    "\n",
    "# Link by full cusip, company names and dates\n",
    "link1_1 = pd.merge(ibes2, crsp2, how='inner', left_on='cusip', right_on='ncusip').sort_values(['ticker','permno','ldate'])\n"
   ]
  },
  {
   "cell_type": "code",
   "execution_count": 15,
   "metadata": {},
   "outputs": [
    {
     "data": {
      "text/plain": [
       "67.0"
      ]
     },
     "execution_count": 15,
     "metadata": {},
     "output_type": "execute_result"
    }
   ],
   "source": [
    "# Keep link with most recent company name\n",
    "link1_1_tmp = link1_1.groupby(['ticker','permno']).ldate.max().reset_index()\n",
    "link1_2 = pd.merge(link1_1, link1_1_tmp, how='inner', on =['ticker', 'permno', 'ldate'])\n",
    "link1_2['name_ratio'] = link1_2.apply(lambda x: fuzz.token_set_ratio(x.comnam, x.cname), axis=1)\n",
    "\n",
    "# 10% percentile of the company name distance\n",
    "name_ratio_p10 = link1_2.name_ratio.quantile(0.10)\n",
    "name_ratio_p10"
   ]
  },
  {
   "cell_type": "code",
   "execution_count": 16,
   "metadata": {},
   "outputs": [],
   "source": [
    "# Function to assign score for companies matched by:\n",
    "# full cusip and passing name_ratio\n",
    "# or meeting date range requirement\n",
    "\n",
    "def score1(row):\n",
    "    if (row['fdate']<=row['nameenddt']) & (row['ldate']>=row['namedt']) & (row['name_ratio'] >= name_ratio_p10):\n",
    "        score = 0\n",
    "    elif (row['fdate']<=row['nameenddt']) & (row['ldate']>=row['namedt']):\n",
    "        score = 1\n",
    "    elif row['name_ratio'] >= name_ratio_p10:\n",
    "        score = 2\n",
    "    else:\n",
    "        score = 3\n",
    "    return score\n",
    "\n",
    "# assign size portfolio\n",
    "link1_2['score']=link1_2.apply(score1, axis=1)\n",
    "link1_2 = link1_2[['ticker','permno','cname','comnam','name_ratio','score']]\n",
    "link1_2 = link1_2.drop_duplicates()"
   ]
  },
  {
   "cell_type": "code",
   "execution_count": 17,
   "metadata": {},
   "outputs": [
    {
     "data": {
      "text/html": [
       "<div>\n",
       "<style scoped>\n",
       "    .dataframe tbody tr th:only-of-type {\n",
       "        vertical-align: middle;\n",
       "    }\n",
       "\n",
       "    .dataframe tbody tr th {\n",
       "        vertical-align: top;\n",
       "    }\n",
       "\n",
       "    .dataframe thead th {\n",
       "        text-align: right;\n",
       "    }\n",
       "</style>\n",
       "<table border=\"1\" class=\"dataframe\">\n",
       "  <thead>\n",
       "    <tr style=\"text-align: right;\">\n",
       "      <th></th>\n",
       "      <th>ticker</th>\n",
       "      <th>permno</th>\n",
       "      <th>cname</th>\n",
       "      <th>comnam</th>\n",
       "      <th>name_ratio</th>\n",
       "      <th>score</th>\n",
       "    </tr>\n",
       "  </thead>\n",
       "  <tbody>\n",
       "    <tr>\n",
       "      <th>0</th>\n",
       "      <td>0000</td>\n",
       "      <td>14471</td>\n",
       "      <td>TALMER BANCORP</td>\n",
       "      <td>TALMER BANCORP INC</td>\n",
       "      <td>100</td>\n",
       "      <td>0</td>\n",
       "    </tr>\n",
       "    <tr>\n",
       "      <th>1</th>\n",
       "      <td>0001</td>\n",
       "      <td>14392</td>\n",
       "      <td>EP ENGR CORP</td>\n",
       "      <td>E P ENERGY CORP</td>\n",
       "      <td>67</td>\n",
       "      <td>0</td>\n",
       "    </tr>\n",
       "    <tr>\n",
       "      <th>2</th>\n",
       "      <td>0004</td>\n",
       "      <td>14418</td>\n",
       "      <td>AMERICAN CAPITAL</td>\n",
       "      <td>AMERICAN CAPITAL SR FLOATING LTD</td>\n",
       "      <td>100</td>\n",
       "      <td>0</td>\n",
       "    </tr>\n",
       "    <tr>\n",
       "      <th>3</th>\n",
       "      <td>000R</td>\n",
       "      <td>14378</td>\n",
       "      <td>CARECOM</td>\n",
       "      <td>CARE COM INC</td>\n",
       "      <td>74</td>\n",
       "      <td>0</td>\n",
       "    </tr>\n",
       "    <tr>\n",
       "      <th>4</th>\n",
       "      <td>000V</td>\n",
       "      <td>14423</td>\n",
       "      <td>EIGER</td>\n",
       "      <td>EIGER BIOPHARMACEUTICALS INC</td>\n",
       "      <td>100</td>\n",
       "      <td>0</td>\n",
       "    </tr>\n",
       "  </tbody>\n",
       "</table>\n",
       "</div>"
      ],
      "text/plain": [
       "  ticker  permno             cname                            comnam  \\\n",
       "0   0000   14471    TALMER BANCORP                TALMER BANCORP INC   \n",
       "1   0001   14392      EP ENGR CORP                   E P ENERGY CORP   \n",
       "2   0004   14418  AMERICAN CAPITAL  AMERICAN CAPITAL SR FLOATING LTD   \n",
       "3   000R   14378           CARECOM                      CARE COM INC   \n",
       "4   000V   14423             EIGER      EIGER BIOPHARMACEUTICALS INC   \n",
       "\n",
       "   name_ratio  score  \n",
       "0         100      0  \n",
       "1          67      0  \n",
       "2         100      0  \n",
       "3          74      0  \n",
       "4         100      0  "
      ]
     },
     "execution_count": 17,
     "metadata": {},
     "output_type": "execute_result"
    }
   ],
   "source": [
    "link1_2.head()"
   ]
  },
  {
   "cell_type": "code",
   "execution_count": 18,
   "metadata": {},
   "outputs": [
    {
     "data": {
      "text/plain": [
       "score\n",
       "0    18880\n",
       "1     1800\n",
       "2      679\n",
       "3       81\n",
       "Name: score, dtype: int64"
      ]
     },
     "execution_count": 18,
     "metadata": {},
     "output_type": "execute_result"
    }
   ],
   "source": [
    "link1_2.groupby(['score']).score.count()"
   ]
  },
  {
   "cell_type": "code",
   "execution_count": 20,
   "metadata": {},
   "outputs": [
    {
     "data": {
      "text/plain": [
       "(16919, 5)"
      ]
     },
     "execution_count": 20,
     "metadata": {},
     "output_type": "execute_result"
    }
   ],
   "source": [
    "##########################\n",
    "# Step 2: Link by TICKER #\n",
    "##########################\n",
    "\n",
    "# Find links for the remaining unmatched cases using Exchange Ticker \n",
    "\n",
    "# Identify remaining unmatched cases \n",
    "nomatch1 = pd.merge(ibes2[['ticker']], link1_2[['permno','ticker']], on='ticker', how='left')\n",
    "nomatch1 = nomatch1.loc[nomatch1.permno.isnull()].drop(['permno'], axis=1).drop_duplicates()\n",
    "\n",
    "# Add IBES identifying information\n",
    "\n",
    "ibesid = pd.read_parquet('../data/raw/sic_processing_files/ibes_id_data.parquet')\n",
    "ibesid = ibesid.loc[ibesid.oftic.notna()]\n",
    "\n",
    "nomatch2 = pd.merge(nomatch1, ibesid, how='inner', on=['ticker'])\n",
    "nomatch2.shape"
   ]
  },
  {
   "cell_type": "code",
   "execution_count": 21,
   "metadata": {},
   "outputs": [
    {
     "data": {
      "text/plain": [
       "(8542, 7)"
      ]
     },
     "execution_count": 21,
     "metadata": {},
     "output_type": "execute_result"
    }
   ],
   "source": [
    "# Create first and last 'start dates' for Exchange Tickers\n",
    "# Label date range variables and keep only most recent company name\n",
    "nomatch3 = nomatch2.groupby(['ticker', 'oftic']).sdates.agg(['min', 'max']).reset_index().rename(columns={'min':'fdate', 'max':'ldate'})\n",
    "\n",
    "nomatch3 = pd.merge(nomatch2, nomatch3, how='left', on=['ticker','oftic'])\n",
    "\n",
    "nomatch3 = nomatch3.loc[nomatch3.sdates == nomatch3.ldate]\n",
    "nomatch3.shape"
   ]
  },
  {
   "cell_type": "code",
   "execution_count": 23,
   "metadata": {},
   "outputs": [],
   "source": [
    "# Get entire list of CRSP stocks with Exchange Ticker information\n",
    "crsp_n1 = pd.read_parquet('../data/raw/sic_processing_files/crsp_w_ticker_info.parquet')\n",
    "\n",
    "crsp_n1 = crsp_n1.loc[crsp_n1.ticker.notna()].sort_values(by=['permno','ticker','namedt'])"
   ]
  },
  {
   "cell_type": "code",
   "execution_count": 24,
   "metadata": {},
   "outputs": [],
   "source": [
    "# Arrange effective dates for link by Exchange Ticker\n",
    "\n",
    "crsp_n1_namedt = crsp_n1.groupby(['permno','ticker']).namedt.min().reset_index().rename(columns={'min':'namedt'})\n",
    "crsp_n1_nameenddt = crsp_n1.groupby(['permno','ticker']).nameenddt.max().reset_index().rename(columns={'max':'nameenddt'})\n",
    "\n",
    "crsp_n1_dt = pd.merge(crsp_n1_namedt, crsp_n1_nameenddt, how = 'inner', on=['permno','ticker'])\n",
    "\n",
    "crsp_n1 = crsp_n1.rename(columns={'namedt': 'namedt_ind', 'nameenddt':'nameenddt_ind'})\n",
    "\n",
    "crsp_n2 = pd.merge(crsp_n1, crsp_n1_dt, how ='left', on = ['permno','ticker'])\n",
    "\n",
    "crsp_n2 = crsp_n2.rename(columns={'ticker':'crsp_ticker'})\n",
    "crsp_n2 = crsp_n2.loc[crsp_n2.nameenddt_ind == crsp_n2.nameenddt].drop(['namedt_ind', 'nameenddt_ind'], axis=1)\n",
    "\n",
    "# Merge remaining unmatched cases using Exchange Ticker \n",
    "# Note: Use ticker date ranges as exchange tickers are reused overtime\n",
    "\n",
    "link2_1 = pd.merge(nomatch3, crsp_n2, how='inner', left_on=['oftic'], right_on=['crsp_ticker'])\n",
    "link2_1 = link2_1.loc[(link2_1.ldate>=link2_1.namedt) & (link2_1.fdate<=link2_1.nameenddt)]\n"
   ]
  },
  {
   "cell_type": "code",
   "execution_count": 25,
   "metadata": {},
   "outputs": [],
   "source": [
    "# Score using company name using 6-digit CUSIP and company name spelling distance\n",
    "link2_1['name_ratio'] = link2_1.apply(lambda x: fuzz.token_set_ratio(x.comnam, x.cname), axis=1)\n",
    "\n",
    "link2_2 = link2_1\n",
    "link2_2['cusip6'] = link2_2.apply(lambda x: x.cusip[:6], axis=1)\n",
    "link2_2['ncusip6'] = link2_2.apply(lambda x: x.ncusip[:6], axis=1)\n"
   ]
  },
  {
   "cell_type": "code",
   "execution_count": 26,
   "metadata": {},
   "outputs": [],
   "source": [
    "# Score using company name using 6-digit CUSIP and company name spelling distance\n",
    "def score2(row):\n",
    "    if (row['cusip6']==row['ncusip6']) & (row['name_ratio'] >= name_ratio_p10):\n",
    "        score = 0\n",
    "    elif (row['cusip6']==row['ncusip6']):\n",
    "        score = 4\n",
    "    elif row['name_ratio'] >= name_ratio_p10:\n",
    "        score = 5\n",
    "    else:\n",
    "        score = 6\n",
    "    return score\n",
    "\n",
    "# assign size portfolio\n",
    "link2_2['score']=link2_2.apply(score2, axis=1)"
   ]
  },
  {
   "cell_type": "code",
   "execution_count": 27,
   "metadata": {},
   "outputs": [],
   "source": [
    "# Some companies may have more than one TICKER-PERMNO link\n",
    "# so re-sort and keep the case (PERMNO & Company name from CRSP)\n",
    "# that gives the lowest score for each IBES TICKER \n",
    "\n",
    "link2_2 = link2_2[['ticker','permno','cname','comnam', 'name_ratio', 'score']].sort_values(by=['ticker','score'])\n",
    "link2_2_score = link2_2.groupby(['ticker']).score.min().reset_index()\n",
    "\n",
    "link2_3 = pd.merge(link2_2, link2_2_score, how='inner', on=['ticker', 'score'])\n",
    "link2_3 = link2_3[['ticker','permno','cname','comnam','score']].drop_duplicates()"
   ]
  },
  {
   "cell_type": "code",
   "execution_count": 28,
   "metadata": {},
   "outputs": [
    {
     "name": "stdout",
     "output_type": "stream",
     "text": [
      "<class 'pandas.core.frame.DataFrame'>\n",
      "Index: 21808 entries, 0 to 374\n",
      "Data columns (total 6 columns):\n",
      " #   Column      Non-Null Count  Dtype  \n",
      "---  ------      --------------  -----  \n",
      " 0   ticker      21808 non-null  object \n",
      " 1   permno      21808 non-null  int64  \n",
      " 2   cname       21808 non-null  object \n",
      " 3   comnam      21808 non-null  object \n",
      " 4   name_ratio  21440 non-null  float64\n",
      " 5   score       21808 non-null  int64  \n",
      "dtypes: float64(1), int64(2), object(3)\n",
      "memory usage: 1.2+ MB\n"
     ]
    }
   ],
   "source": [
    "ibes_crsp_link = pd.concat([link1_2, link2_3])\n",
    "ibes_crsp_link.info()"
   ]
  },
  {
   "cell_type": "code",
   "execution_count": 30,
   "metadata": {},
   "outputs": [],
   "source": [
    "crisp_compustat_link = pd.read_parquet('../data/raw/sic_processing_files/crisp-computsat-link.parquet')"
   ]
  },
  {
   "cell_type": "code",
   "execution_count": 31,
   "metadata": {},
   "outputs": [
    {
     "data": {
      "text/plain": [
       "(31952, 12)"
      ]
     },
     "execution_count": 31,
     "metadata": {},
     "output_type": "execute_result"
    }
   ],
   "source": [
    "crisp_compustat_link.shape"
   ]
  },
  {
   "cell_type": "code",
   "execution_count": 32,
   "metadata": {},
   "outputs": [
    {
     "data": {
      "text/html": [
       "<div>\n",
       "<style scoped>\n",
       "    .dataframe tbody tr th:only-of-type {\n",
       "        vertical-align: middle;\n",
       "    }\n",
       "\n",
       "    .dataframe tbody tr th {\n",
       "        vertical-align: top;\n",
       "    }\n",
       "\n",
       "    .dataframe thead th {\n",
       "        text-align: right;\n",
       "    }\n",
       "</style>\n",
       "<table border=\"1\" class=\"dataframe\">\n",
       "  <thead>\n",
       "    <tr style=\"text-align: right;\">\n",
       "      <th></th>\n",
       "      <th>gvkey</th>\n",
       "      <th>conm</th>\n",
       "      <th>tic</th>\n",
       "      <th>cusip</th>\n",
       "      <th>sic</th>\n",
       "      <th>LINKPRIM</th>\n",
       "      <th>LIID</th>\n",
       "      <th>LINKTYPE</th>\n",
       "      <th>LPERMNO</th>\n",
       "      <th>LPERMCO</th>\n",
       "      <th>LINKDT</th>\n",
       "      <th>LINKENDDT</th>\n",
       "    </tr>\n",
       "  </thead>\n",
       "  <tbody>\n",
       "    <tr>\n",
       "      <th>0</th>\n",
       "      <td>1000</td>\n",
       "      <td>A &amp; E PLASTIK PAK INC</td>\n",
       "      <td>AE.2</td>\n",
       "      <td>000032102</td>\n",
       "      <td>3089</td>\n",
       "      <td>P</td>\n",
       "      <td>01</td>\n",
       "      <td>LU</td>\n",
       "      <td>25881</td>\n",
       "      <td>23369</td>\n",
       "      <td>1970-11-13</td>\n",
       "      <td>1978-06-30</td>\n",
       "    </tr>\n",
       "    <tr>\n",
       "      <th>1</th>\n",
       "      <td>1001</td>\n",
       "      <td>A &amp; M FOOD SERVICES INC</td>\n",
       "      <td>AMFD.</td>\n",
       "      <td>000165100</td>\n",
       "      <td>5812</td>\n",
       "      <td>P</td>\n",
       "      <td>01</td>\n",
       "      <td>LU</td>\n",
       "      <td>10015</td>\n",
       "      <td>6398</td>\n",
       "      <td>1983-09-20</td>\n",
       "      <td>1986-07-31</td>\n",
       "    </tr>\n",
       "    <tr>\n",
       "      <th>2</th>\n",
       "      <td>1002</td>\n",
       "      <td>AAI CORP</td>\n",
       "      <td>AAIC.1</td>\n",
       "      <td>000352104</td>\n",
       "      <td>3825</td>\n",
       "      <td>C</td>\n",
       "      <td>01</td>\n",
       "      <td>LC</td>\n",
       "      <td>10023</td>\n",
       "      <td>22159</td>\n",
       "      <td>1972-12-14</td>\n",
       "      <td>1973-06-05</td>\n",
       "    </tr>\n",
       "    <tr>\n",
       "      <th>3</th>\n",
       "      <td>1003</td>\n",
       "      <td>A.A. IMPORTING CO INC</td>\n",
       "      <td>ANTQ</td>\n",
       "      <td>000354100</td>\n",
       "      <td>5712</td>\n",
       "      <td>C</td>\n",
       "      <td>01</td>\n",
       "      <td>LU</td>\n",
       "      <td>10031</td>\n",
       "      <td>6672</td>\n",
       "      <td>1983-12-07</td>\n",
       "      <td>1989-08-16</td>\n",
       "    </tr>\n",
       "    <tr>\n",
       "      <th>4</th>\n",
       "      <td>1004</td>\n",
       "      <td>AAR CORP</td>\n",
       "      <td>AIR</td>\n",
       "      <td>000361105</td>\n",
       "      <td>5080</td>\n",
       "      <td>P</td>\n",
       "      <td>01</td>\n",
       "      <td>LU</td>\n",
       "      <td>54594</td>\n",
       "      <td>20000</td>\n",
       "      <td>1972-04-24</td>\n",
       "      <td>E</td>\n",
       "    </tr>\n",
       "  </tbody>\n",
       "</table>\n",
       "</div>"
      ],
      "text/plain": [
       "   gvkey                     conm     tic      cusip   sic LINKPRIM LIID  \\\n",
       "0   1000    A & E PLASTIK PAK INC    AE.2  000032102  3089        P   01   \n",
       "1   1001  A & M FOOD SERVICES INC   AMFD.  000165100  5812        P   01   \n",
       "2   1002                 AAI CORP  AAIC.1  000352104  3825        C   01   \n",
       "3   1003    A.A. IMPORTING CO INC    ANTQ  000354100  5712        C   01   \n",
       "4   1004                 AAR CORP     AIR  000361105  5080        P   01   \n",
       "\n",
       "  LINKTYPE  LPERMNO  LPERMCO      LINKDT   LINKENDDT  \n",
       "0       LU    25881    23369  1970-11-13  1978-06-30  \n",
       "1       LU    10015     6398  1983-09-20  1986-07-31  \n",
       "2       LC    10023    22159  1972-12-14  1973-06-05  \n",
       "3       LU    10031     6672  1983-12-07  1989-08-16  \n",
       "4       LU    54594    20000  1972-04-24           E  "
      ]
     },
     "execution_count": 32,
     "metadata": {},
     "output_type": "execute_result"
    }
   ],
   "source": [
    "crisp_compustat_link.head()"
   ]
  },
  {
   "cell_type": "code",
   "execution_count": 33,
   "metadata": {},
   "outputs": [
    {
     "data": {
      "text/plain": [
       "permno\n",
       "True     21130\n",
       "False      678\n",
       "Name: count, dtype: int64"
      ]
     },
     "execution_count": 33,
     "metadata": {},
     "output_type": "execute_result"
    }
   ],
   "source": [
    "# for how many permno from ibes_crsp_link do we have a link in crisp_compustat_link lpermno  and if not matched in LPERMCO\n",
    "ibes_crsp_link['permno'].isin(crisp_compustat_link['LPERMNO']).value_counts()"
   ]
  },
  {
   "cell_type": "code",
   "execution_count": 34,
   "metadata": {},
   "outputs": [
    {
     "data": {
      "text/html": [
       "<div>\n",
       "<style scoped>\n",
       "    .dataframe tbody tr th:only-of-type {\n",
       "        vertical-align: middle;\n",
       "    }\n",
       "\n",
       "    .dataframe tbody tr th {\n",
       "        vertical-align: top;\n",
       "    }\n",
       "\n",
       "    .dataframe thead th {\n",
       "        text-align: right;\n",
       "    }\n",
       "</style>\n",
       "<table border=\"1\" class=\"dataframe\">\n",
       "  <thead>\n",
       "    <tr style=\"text-align: right;\">\n",
       "      <th></th>\n",
       "      <th>ticker</th>\n",
       "      <th>permno</th>\n",
       "      <th>cname</th>\n",
       "      <th>comnam</th>\n",
       "      <th>name_ratio</th>\n",
       "      <th>score</th>\n",
       "      <th>gvkey</th>\n",
       "      <th>conm</th>\n",
       "      <th>tic</th>\n",
       "      <th>cusip</th>\n",
       "      <th>sic</th>\n",
       "      <th>LINKPRIM</th>\n",
       "      <th>LIID</th>\n",
       "      <th>LINKTYPE</th>\n",
       "      <th>LPERMNO</th>\n",
       "      <th>LPERMCO</th>\n",
       "      <th>LINKDT</th>\n",
       "      <th>LINKENDDT</th>\n",
       "    </tr>\n",
       "  </thead>\n",
       "  <tbody>\n",
       "    <tr>\n",
       "      <th>0</th>\n",
       "      <td>0000</td>\n",
       "      <td>14471</td>\n",
       "      <td>TALMER BANCORP</td>\n",
       "      <td>TALMER BANCORP INC</td>\n",
       "      <td>100.0</td>\n",
       "      <td>0</td>\n",
       "      <td>192458.0</td>\n",
       "      <td>TALMER BANCORP INC</td>\n",
       "      <td>TLMR</td>\n",
       "      <td>87482X101</td>\n",
       "      <td>6020.0</td>\n",
       "      <td>P</td>\n",
       "      <td>01</td>\n",
       "      <td>LC</td>\n",
       "      <td>14471.0</td>\n",
       "      <td>54747.0</td>\n",
       "      <td>2014-02-12</td>\n",
       "      <td>2016-09-30</td>\n",
       "    </tr>\n",
       "    <tr>\n",
       "      <th>1</th>\n",
       "      <td>0001</td>\n",
       "      <td>14392</td>\n",
       "      <td>EP ENGR CORP</td>\n",
       "      <td>E P ENERGY CORP</td>\n",
       "      <td>67.0</td>\n",
       "      <td>0</td>\n",
       "      <td>18660.0</td>\n",
       "      <td>EP ENERGY CORP</td>\n",
       "      <td>EPEGQ</td>\n",
       "      <td>268785102</td>\n",
       "      <td>1311.0</td>\n",
       "      <td>P</td>\n",
       "      <td>01</td>\n",
       "      <td>LC</td>\n",
       "      <td>14392.0</td>\n",
       "      <td>54697.0</td>\n",
       "      <td>2014-01-17</td>\n",
       "      <td>2019-04-30</td>\n",
       "    </tr>\n",
       "    <tr>\n",
       "      <th>2</th>\n",
       "      <td>0004</td>\n",
       "      <td>14418</td>\n",
       "      <td>AMERICAN CAPITAL</td>\n",
       "      <td>AMERICAN CAPITAL SR FLOATING LTD</td>\n",
       "      <td>100.0</td>\n",
       "      <td>0</td>\n",
       "      <td>19545.0</td>\n",
       "      <td>AMERICAN CAPITAL SR FLTG LTD</td>\n",
       "      <td>ACSF</td>\n",
       "      <td>02504D108</td>\n",
       "      <td>6797.0</td>\n",
       "      <td>P</td>\n",
       "      <td>01</td>\n",
       "      <td>LC</td>\n",
       "      <td>14418.0</td>\n",
       "      <td>54710.0</td>\n",
       "      <td>2014-01-16</td>\n",
       "      <td>2018-09-28</td>\n",
       "    </tr>\n",
       "    <tr>\n",
       "      <th>3</th>\n",
       "      <td>000R</td>\n",
       "      <td>14378</td>\n",
       "      <td>CARECOM</td>\n",
       "      <td>CARE COM INC</td>\n",
       "      <td>74.0</td>\n",
       "      <td>0</td>\n",
       "      <td>19352.0</td>\n",
       "      <td>CARE.COM INC</td>\n",
       "      <td>CRCM</td>\n",
       "      <td>141633107</td>\n",
       "      <td>7370.0</td>\n",
       "      <td>P</td>\n",
       "      <td>01</td>\n",
       "      <td>LC</td>\n",
       "      <td>14378.0</td>\n",
       "      <td>54694.0</td>\n",
       "      <td>2014-01-24</td>\n",
       "      <td>2020-02-28</td>\n",
       "    </tr>\n",
       "    <tr>\n",
       "      <th>4</th>\n",
       "      <td>000V</td>\n",
       "      <td>14423</td>\n",
       "      <td>EIGER</td>\n",
       "      <td>EIGER BIOPHARMACEUTICALS INC</td>\n",
       "      <td>100.0</td>\n",
       "      <td>0</td>\n",
       "      <td>18929.0</td>\n",
       "      <td>CELLADON CORP</td>\n",
       "      <td>CLDN</td>\n",
       "      <td>15117E107</td>\n",
       "      <td>2836.0</td>\n",
       "      <td>P</td>\n",
       "      <td>01</td>\n",
       "      <td>LC</td>\n",
       "      <td>14423.0</td>\n",
       "      <td>54714.0</td>\n",
       "      <td>2014-01-30</td>\n",
       "      <td>2016-03-22</td>\n",
       "    </tr>\n",
       "  </tbody>\n",
       "</table>\n",
       "</div>"
      ],
      "text/plain": [
       "  ticker  permno             cname                            comnam  \\\n",
       "0   0000   14471    TALMER BANCORP                TALMER BANCORP INC   \n",
       "1   0001   14392      EP ENGR CORP                   E P ENERGY CORP   \n",
       "2   0004   14418  AMERICAN CAPITAL  AMERICAN CAPITAL SR FLOATING LTD   \n",
       "3   000R   14378           CARECOM                      CARE COM INC   \n",
       "4   000V   14423             EIGER      EIGER BIOPHARMACEUTICALS INC   \n",
       "\n",
       "   name_ratio  score     gvkey                          conm    tic  \\\n",
       "0       100.0      0  192458.0            TALMER BANCORP INC   TLMR   \n",
       "1        67.0      0   18660.0                EP ENERGY CORP  EPEGQ   \n",
       "2       100.0      0   19545.0  AMERICAN CAPITAL SR FLTG LTD   ACSF   \n",
       "3        74.0      0   19352.0                  CARE.COM INC   CRCM   \n",
       "4       100.0      0   18929.0                 CELLADON CORP   CLDN   \n",
       "\n",
       "       cusip     sic LINKPRIM LIID LINKTYPE  LPERMNO  LPERMCO      LINKDT  \\\n",
       "0  87482X101  6020.0        P   01       LC  14471.0  54747.0  2014-02-12   \n",
       "1  268785102  1311.0        P   01       LC  14392.0  54697.0  2014-01-17   \n",
       "2  02504D108  6797.0        P   01       LC  14418.0  54710.0  2014-01-16   \n",
       "3  141633107  7370.0        P   01       LC  14378.0  54694.0  2014-01-24   \n",
       "4  15117E107  2836.0        P   01       LC  14423.0  54714.0  2014-01-30   \n",
       "\n",
       "    LINKENDDT  \n",
       "0  2016-09-30  \n",
       "1  2019-04-30  \n",
       "2  2018-09-28  \n",
       "3  2020-02-28  \n",
       "4  2016-03-22  "
      ]
     },
     "execution_count": 34,
     "metadata": {},
     "output_type": "execute_result"
    }
   ],
   "source": [
    "# create linking table \n",
    "linking_table = pd.merge(ibes_crsp_link, crisp_compustat_link, how='left', left_on='permno', right_on='LPERMNO')\n",
    "linking_table.head()"
   ]
  },
  {
   "cell_type": "code",
   "execution_count": 35,
   "metadata": {},
   "outputs": [],
   "source": [
    "linking_table = linking_table[[\"ticker\", \"sic\"]]"
   ]
  },
  {
   "cell_type": "code",
   "execution_count": 36,
   "metadata": {},
   "outputs": [],
   "source": [
    "linking_table.loc[linking_table[\"sic\"].isna(), \"sic\"] = -1\n",
    "linking_table[\"sic\"] = linking_table[\"sic\"].astype(str).str[:2]\n",
    "linking_table[\"sic\"] = linking_table[\"sic\"].astype(int)"
   ]
  },
  {
   "cell_type": "code",
   "execution_count": 37,
   "metadata": {},
   "outputs": [],
   "source": [
    "linking_table = linking_table.drop_duplicates()"
   ]
  },
  {
   "cell_type": "code",
   "execution_count": 38,
   "metadata": {},
   "outputs": [],
   "source": [
    "linking_table['total_ticker_count'] = linking_table.groupby('ticker')['ticker'].transform('count')"
   ]
  },
  {
   "cell_type": "code",
   "execution_count": 39,
   "metadata": {},
   "outputs": [
    {
     "data": {
      "text/html": [
       "<div>\n",
       "<style scoped>\n",
       "    .dataframe tbody tr th:only-of-type {\n",
       "        vertical-align: middle;\n",
       "    }\n",
       "\n",
       "    .dataframe tbody tr th {\n",
       "        vertical-align: top;\n",
       "    }\n",
       "\n",
       "    .dataframe thead th {\n",
       "        text-align: right;\n",
       "    }\n",
       "</style>\n",
       "<table border=\"1\" class=\"dataframe\">\n",
       "  <thead>\n",
       "    <tr style=\"text-align: right;\">\n",
       "      <th></th>\n",
       "      <th>ticker</th>\n",
       "      <th>sic</th>\n",
       "    </tr>\n",
       "  </thead>\n",
       "  <tbody>\n",
       "    <tr>\n",
       "      <th>0</th>\n",
       "      <td>0000</td>\n",
       "      <td>60</td>\n",
       "    </tr>\n",
       "    <tr>\n",
       "      <th>1</th>\n",
       "      <td>0001</td>\n",
       "      <td>13</td>\n",
       "    </tr>\n",
       "    <tr>\n",
       "      <th>2</th>\n",
       "      <td>0004</td>\n",
       "      <td>67</td>\n",
       "    </tr>\n",
       "    <tr>\n",
       "      <th>3</th>\n",
       "      <td>000R</td>\n",
       "      <td>73</td>\n",
       "    </tr>\n",
       "    <tr>\n",
       "      <th>4</th>\n",
       "      <td>000V</td>\n",
       "      <td>28</td>\n",
       "    </tr>\n",
       "    <tr>\n",
       "      <th>...</th>\n",
       "      <td>...</td>\n",
       "      <td>...</td>\n",
       "    </tr>\n",
       "    <tr>\n",
       "      <th>21098</th>\n",
       "      <td>ZXIS</td>\n",
       "      <td>35</td>\n",
       "    </tr>\n",
       "    <tr>\n",
       "      <th>21099</th>\n",
       "      <td>ZXZX</td>\n",
       "      <td>37</td>\n",
       "    </tr>\n",
       "    <tr>\n",
       "      <th>21100</th>\n",
       "      <td>ZY</td>\n",
       "      <td>56</td>\n",
       "    </tr>\n",
       "    <tr>\n",
       "      <th>21101</th>\n",
       "      <td>ZYNE</td>\n",
       "      <td>28</td>\n",
       "    </tr>\n",
       "    <tr>\n",
       "      <th>21102</th>\n",
       "      <td>ZYNX</td>\n",
       "      <td>38</td>\n",
       "    </tr>\n",
       "  </tbody>\n",
       "</table>\n",
       "<p>21103 rows × 2 columns</p>\n",
       "</div>"
      ],
      "text/plain": [
       "      ticker  sic\n",
       "0       0000   60\n",
       "1       0001   13\n",
       "2       0004   67\n",
       "3       000R   73\n",
       "4       000V   28\n",
       "...      ...  ...\n",
       "21098   ZXIS   35\n",
       "21099   ZXZX   37\n",
       "21100     ZY   56\n",
       "21101   ZYNE   28\n",
       "21102   ZYNX   38\n",
       "\n",
       "[21103 rows x 2 columns]"
      ]
     },
     "execution_count": 39,
     "metadata": {},
     "output_type": "execute_result"
    }
   ],
   "source": [
    "grouped = linking_table.groupby('ticker').agg({'sic': 'max', 'total_ticker_count': 'first'}).reset_index()\n",
    "\n",
    "# The DataFrame is already in the format we need based on your requirements\n",
    "new_df_adjusted = grouped[['ticker', 'sic']]\n",
    "new_df_adjusted"
   ]
  },
  {
   "cell_type": "code",
   "execution_count": 41,
   "metadata": {},
   "outputs": [],
   "source": [
    "new_df_adjusted.to_parquet('../data/processed/sic_linking_table.parquet')"
   ]
  },
  {
   "cell_type": "markdown",
   "metadata": {},
   "source": [
    "# Experience"
   ]
  },
  {
   "cell_type": "markdown",
   "metadata": {},
   "source": [
    "### step 1 - preproceed original data"
   ]
  },
  {
   "cell_type": "code",
   "execution_count": 42,
   "metadata": {},
   "outputs": [],
   "source": [
    "def convert_to_datetime(df):\n",
    "    \"\"\"\n",
    "    Service function for changing columns to datetime format\n",
    "\n",
    "    Args:\n",
    "        df (pandas.DataFrame): Dataframe with defined columns to adjust\n",
    "\n",
    "    Returns:\n",
    "        df (pandas.DataFrame): processed dataframe\n",
    "    \"\"\"\n",
    "    columns_to_convert = ['fpedats','revdats', 'anndats', 'anndats_act']\n",
    "    for column in columns_to_convert:\n",
    "        df[column] = pd.to_datetime(df[column])\n",
    "        \n",
    "    return df"
   ]
  },
  {
   "cell_type": "code",
   "execution_count": 44,
   "metadata": {},
   "outputs": [
    {
     "name": "stderr",
     "output_type": "stream",
     "text": [
      "/var/folders/q6/rg_7lxjs1wx6080czdx8tpjm0000gn/T/ipykernel_82546/2965240066.py:13: SettingWithCopyWarning: \n",
      "A value is trying to be set on a copy of a slice from a DataFrame.\n",
      "Try using .loc[row_indexer,col_indexer] = value instead\n",
      "\n",
      "See the caveats in the documentation: https://pandas.pydata.org/pandas-docs/stable/user_guide/indexing.html#returning-a-view-versus-a-copy\n",
      "  df_analyst['year'] = df_analyst['announce_date'].dt.year\n"
     ]
    },
    {
     "data": {
      "text/html": [
       "<div>\n",
       "<style scoped>\n",
       "    .dataframe tbody tr th:only-of-type {\n",
       "        vertical-align: middle;\n",
       "    }\n",
       "\n",
       "    .dataframe tbody tr th {\n",
       "        vertical-align: top;\n",
       "    }\n",
       "\n",
       "    .dataframe thead th {\n",
       "        text-align: right;\n",
       "    }\n",
       "</style>\n",
       "<table border=\"1\" class=\"dataframe\">\n",
       "  <thead>\n",
       "    <tr style=\"text-align: right;\">\n",
       "      <th></th>\n",
       "      <th>analyst</th>\n",
       "      <th>year</th>\n",
       "    </tr>\n",
       "  </thead>\n",
       "  <tbody>\n",
       "    <tr>\n",
       "      <th>0</th>\n",
       "      <td>119962</td>\n",
       "      <td>2014.0</td>\n",
       "    </tr>\n",
       "    <tr>\n",
       "      <th>1</th>\n",
       "      <td>80474</td>\n",
       "      <td>2014.0</td>\n",
       "    </tr>\n",
       "    <tr>\n",
       "      <th>2</th>\n",
       "      <td>50789</td>\n",
       "      <td>2014.0</td>\n",
       "    </tr>\n",
       "    <tr>\n",
       "      <th>3</th>\n",
       "      <td>79092</td>\n",
       "      <td>2014.0</td>\n",
       "    </tr>\n",
       "    <tr>\n",
       "      <th>4</th>\n",
       "      <td>71182</td>\n",
       "      <td>2014.0</td>\n",
       "    </tr>\n",
       "    <tr>\n",
       "      <th>...</th>\n",
       "      <td>...</td>\n",
       "      <td>...</td>\n",
       "    </tr>\n",
       "    <tr>\n",
       "      <th>68095</th>\n",
       "      <td>104805</td>\n",
       "      <td>2011.0</td>\n",
       "    </tr>\n",
       "    <tr>\n",
       "      <th>68096</th>\n",
       "      <td>104805</td>\n",
       "      <td>2012.0</td>\n",
       "    </tr>\n",
       "    <tr>\n",
       "      <th>68097</th>\n",
       "      <td>159645</td>\n",
       "      <td>2013.0</td>\n",
       "    </tr>\n",
       "    <tr>\n",
       "      <th>68098</th>\n",
       "      <td>131108</td>\n",
       "      <td>2019.0</td>\n",
       "    </tr>\n",
       "    <tr>\n",
       "      <th>68099</th>\n",
       "      <td>191964</td>\n",
       "      <td>2018.0</td>\n",
       "    </tr>\n",
       "  </tbody>\n",
       "</table>\n",
       "<p>68100 rows × 2 columns</p>\n",
       "</div>"
      ],
      "text/plain": [
       "       analyst    year\n",
       "0       119962  2014.0\n",
       "1        80474  2014.0\n",
       "2        50789  2014.0\n",
       "3        79092  2014.0\n",
       "4        71182  2014.0\n",
       "...        ...     ...\n",
       "68095   104805  2011.0\n",
       "68096   104805  2012.0\n",
       "68097   159645  2013.0\n",
       "68098   131108  2019.0\n",
       "68099   191964  2018.0\n",
       "\n",
       "[68100 rows x 2 columns]"
      ]
     },
     "execution_count": 44,
     "metadata": {},
     "output_type": "execute_result"
    }
   ],
   "source": [
    "df = pd.read_parquet('../data/raw/ibes-forecasts.parquet')\n",
    "df = df.rename(columns={col: col.lower() for col in df.columns})\n",
    "\n",
    "df = convert_to_datetime(df)\n",
    "\n",
    "df = df.rename(columns={\"ticker\": \"ibes_ticker_pk\", \"oftic\": \"official_ticker\", \"analys\": \"analyst\", \n",
    "                            \"value\": \"estimated_eps\", \"fpedats\": \"fiscal_period_ending\", \n",
    "                            \"revdats\": \"revision_date\", \"anndats\": \"announce_date\", \n",
    "                            \"actual\": \"actual_eps\", \"anndats_act\": \"announce_date_actual\", \"cname\":\"company_name\"\n",
    "                            })\n",
    "df['analyst_year'] = df.announce_date.dt.year\n",
    "df_analyst = df[['analyst', 'announce_date']]\n",
    "df_analyst['year'] = df_analyst['announce_date'].dt.year\n",
    "df_analyst = df_analyst.drop(columns= ['announce_date'])\n",
    "df_analyst = df_analyst.drop_duplicates().reset_index(drop=True)\n",
    "df_analyst"
   ]
  },
  {
   "cell_type": "markdown",
   "metadata": {},
   "source": [
    "### Step 2 - add historical data for analysts"
   ]
  },
  {
   "cell_type": "code",
   "execution_count": 45,
   "metadata": {},
   "outputs": [
    {
     "data": {
      "text/html": [
       "<div>\n",
       "<style scoped>\n",
       "    .dataframe tbody tr th:only-of-type {\n",
       "        vertical-align: middle;\n",
       "    }\n",
       "\n",
       "    .dataframe tbody tr th {\n",
       "        vertical-align: top;\n",
       "    }\n",
       "\n",
       "    .dataframe thead th {\n",
       "        text-align: right;\n",
       "    }\n",
       "</style>\n",
       "<table border=\"1\" class=\"dataframe\">\n",
       "  <thead>\n",
       "    <tr style=\"text-align: right;\">\n",
       "      <th></th>\n",
       "      <th>TICKER</th>\n",
       "      <th>OFTIC</th>\n",
       "      <th>CNAME</th>\n",
       "      <th>ACTDATS</th>\n",
       "      <th>ANALYS</th>\n",
       "      <th>FPI</th>\n",
       "      <th>MEASURE</th>\n",
       "      <th>FPEDATS</th>\n",
       "      <th>ANNDATS</th>\n",
       "    </tr>\n",
       "  </thead>\n",
       "  <tbody>\n",
       "    <tr>\n",
       "      <th>0</th>\n",
       "      <td>0000</td>\n",
       "      <td>TLMR</td>\n",
       "      <td>TALMER BANCORP</td>\n",
       "      <td>2014-03-11</td>\n",
       "      <td>119962</td>\n",
       "      <td>1</td>\n",
       "      <td>EPS</td>\n",
       "      <td>2014-12-31</td>\n",
       "      <td>2014-03-09</td>\n",
       "    </tr>\n",
       "    <tr>\n",
       "      <th>1</th>\n",
       "      <td>0000</td>\n",
       "      <td>TLMR</td>\n",
       "      <td>TALMER BANCORP</td>\n",
       "      <td>2014-03-11</td>\n",
       "      <td>80474</td>\n",
       "      <td>1</td>\n",
       "      <td>EPS</td>\n",
       "      <td>2014-12-31</td>\n",
       "      <td>2014-03-10</td>\n",
       "    </tr>\n",
       "    <tr>\n",
       "      <th>2</th>\n",
       "      <td>0000</td>\n",
       "      <td>TLMR</td>\n",
       "      <td>TALMER BANCORP</td>\n",
       "      <td>2014-03-11</td>\n",
       "      <td>50789</td>\n",
       "      <td>1</td>\n",
       "      <td>EPS</td>\n",
       "      <td>2014-12-31</td>\n",
       "      <td>2014-03-10</td>\n",
       "    </tr>\n",
       "    <tr>\n",
       "      <th>3</th>\n",
       "      <td>0000</td>\n",
       "      <td>TLMR</td>\n",
       "      <td>TALMER BANCORP</td>\n",
       "      <td>2014-03-11</td>\n",
       "      <td>79092</td>\n",
       "      <td>1</td>\n",
       "      <td>EPS</td>\n",
       "      <td>2014-12-31</td>\n",
       "      <td>2014-03-10</td>\n",
       "    </tr>\n",
       "    <tr>\n",
       "      <th>4</th>\n",
       "      <td>0000</td>\n",
       "      <td>TLMR</td>\n",
       "      <td>TALMER BANCORP</td>\n",
       "      <td>2014-03-17</td>\n",
       "      <td>71182</td>\n",
       "      <td>1</td>\n",
       "      <td>EPS</td>\n",
       "      <td>2014-12-31</td>\n",
       "      <td>2014-03-17</td>\n",
       "    </tr>\n",
       "  </tbody>\n",
       "</table>\n",
       "</div>"
      ],
      "text/plain": [
       "  TICKER OFTIC           CNAME     ACTDATS  ANALYS  FPI MEASURE     FPEDATS  \\\n",
       "0   0000  TLMR  TALMER BANCORP  2014-03-11  119962    1     EPS  2014-12-31   \n",
       "1   0000  TLMR  TALMER BANCORP  2014-03-11   80474    1     EPS  2014-12-31   \n",
       "2   0000  TLMR  TALMER BANCORP  2014-03-11   50789    1     EPS  2014-12-31   \n",
       "3   0000  TLMR  TALMER BANCORP  2014-03-11   79092    1     EPS  2014-12-31   \n",
       "4   0000  TLMR  TALMER BANCORP  2014-03-17   71182    1     EPS  2014-12-31   \n",
       "\n",
       "      ANNDATS  \n",
       "0  2014-03-09  \n",
       "1  2014-03-10  \n",
       "2  2014-03-10  \n",
       "3  2014-03-10  \n",
       "4  2014-03-17  "
      ]
     },
     "execution_count": 45,
     "metadata": {},
     "output_type": "execute_result"
    }
   ],
   "source": [
    "old_data = pd.read_parquet('../data/raw/1990-2014.parquet')\n",
    "old_data.head()"
   ]
  },
  {
   "cell_type": "code",
   "execution_count": 46,
   "metadata": {},
   "outputs": [
    {
     "data": {
      "text/html": [
       "<div>\n",
       "<style scoped>\n",
       "    .dataframe tbody tr th:only-of-type {\n",
       "        vertical-align: middle;\n",
       "    }\n",
       "\n",
       "    .dataframe tbody tr th {\n",
       "        vertical-align: top;\n",
       "    }\n",
       "\n",
       "    .dataframe thead th {\n",
       "        text-align: right;\n",
       "    }\n",
       "</style>\n",
       "<table border=\"1\" class=\"dataframe\">\n",
       "  <thead>\n",
       "    <tr style=\"text-align: right;\">\n",
       "      <th></th>\n",
       "      <th>ANALYS</th>\n",
       "      <th>ANNDATS</th>\n",
       "    </tr>\n",
       "  </thead>\n",
       "  <tbody>\n",
       "    <tr>\n",
       "      <th>0</th>\n",
       "      <td>119962</td>\n",
       "      <td>2014-03-09</td>\n",
       "    </tr>\n",
       "    <tr>\n",
       "      <th>1</th>\n",
       "      <td>80474</td>\n",
       "      <td>2014-03-10</td>\n",
       "    </tr>\n",
       "    <tr>\n",
       "      <th>2</th>\n",
       "      <td>50789</td>\n",
       "      <td>2014-03-10</td>\n",
       "    </tr>\n",
       "    <tr>\n",
       "      <th>3</th>\n",
       "      <td>79092</td>\n",
       "      <td>2014-03-10</td>\n",
       "    </tr>\n",
       "    <tr>\n",
       "      <th>4</th>\n",
       "      <td>71182</td>\n",
       "      <td>2014-03-17</td>\n",
       "    </tr>\n",
       "    <tr>\n",
       "      <th>...</th>\n",
       "      <td>...</td>\n",
       "      <td>...</td>\n",
       "    </tr>\n",
       "    <tr>\n",
       "      <th>2138012</th>\n",
       "      <td>136140</td>\n",
       "      <td>2013-11-10</td>\n",
       "    </tr>\n",
       "    <tr>\n",
       "      <th>2138013</th>\n",
       "      <td>41097</td>\n",
       "      <td>2013-11-14</td>\n",
       "    </tr>\n",
       "    <tr>\n",
       "      <th>2138014</th>\n",
       "      <td>136140</td>\n",
       "      <td>2014-09-28</td>\n",
       "    </tr>\n",
       "    <tr>\n",
       "      <th>2138015</th>\n",
       "      <td>41097</td>\n",
       "      <td>2014-10-13</td>\n",
       "    </tr>\n",
       "    <tr>\n",
       "      <th>2138016</th>\n",
       "      <td>41097</td>\n",
       "      <td>2014-11-12</td>\n",
       "    </tr>\n",
       "  </tbody>\n",
       "</table>\n",
       "<p>2138017 rows × 2 columns</p>\n",
       "</div>"
      ],
      "text/plain": [
       "         ANALYS     ANNDATS\n",
       "0        119962  2014-03-09\n",
       "1         80474  2014-03-10\n",
       "2         50789  2014-03-10\n",
       "3         79092  2014-03-10\n",
       "4         71182  2014-03-17\n",
       "...         ...         ...\n",
       "2138012  136140  2013-11-10\n",
       "2138013   41097  2013-11-14\n",
       "2138014  136140  2014-09-28\n",
       "2138015   41097  2014-10-13\n",
       "2138016   41097  2014-11-12\n",
       "\n",
       "[2138017 rows x 2 columns]"
      ]
     },
     "execution_count": 46,
     "metadata": {},
     "output_type": "execute_result"
    }
   ],
   "source": [
    "analysts_experience = old_data[['ANALYS', 'ANNDATS']].drop_duplicates().reset_index(drop=True)\n",
    "analysts_experience"
   ]
  },
  {
   "cell_type": "code",
   "execution_count": 47,
   "metadata": {},
   "outputs": [
    {
     "data": {
      "text/html": [
       "<div>\n",
       "<style scoped>\n",
       "    .dataframe tbody tr th:only-of-type {\n",
       "        vertical-align: middle;\n",
       "    }\n",
       "\n",
       "    .dataframe tbody tr th {\n",
       "        vertical-align: top;\n",
       "    }\n",
       "\n",
       "    .dataframe thead th {\n",
       "        text-align: right;\n",
       "    }\n",
       "</style>\n",
       "<table border=\"1\" class=\"dataframe\">\n",
       "  <thead>\n",
       "    <tr style=\"text-align: right;\">\n",
       "      <th></th>\n",
       "      <th>ANALYS</th>\n",
       "      <th>ANNDATS</th>\n",
       "      <th>year</th>\n",
       "    </tr>\n",
       "  </thead>\n",
       "  <tbody>\n",
       "    <tr>\n",
       "      <th>0</th>\n",
       "      <td>119962</td>\n",
       "      <td>2014-03-09</td>\n",
       "      <td>2014</td>\n",
       "    </tr>\n",
       "    <tr>\n",
       "      <th>1</th>\n",
       "      <td>80474</td>\n",
       "      <td>2014-03-10</td>\n",
       "      <td>2014</td>\n",
       "    </tr>\n",
       "    <tr>\n",
       "      <th>2</th>\n",
       "      <td>50789</td>\n",
       "      <td>2014-03-10</td>\n",
       "      <td>2014</td>\n",
       "    </tr>\n",
       "    <tr>\n",
       "      <th>3</th>\n",
       "      <td>79092</td>\n",
       "      <td>2014-03-10</td>\n",
       "      <td>2014</td>\n",
       "    </tr>\n",
       "    <tr>\n",
       "      <th>4</th>\n",
       "      <td>71182</td>\n",
       "      <td>2014-03-17</td>\n",
       "      <td>2014</td>\n",
       "    </tr>\n",
       "  </tbody>\n",
       "</table>\n",
       "</div>"
      ],
      "text/plain": [
       "   ANALYS    ANNDATS  year\n",
       "0  119962 2014-03-09  2014\n",
       "1   80474 2014-03-10  2014\n",
       "2   50789 2014-03-10  2014\n",
       "3   79092 2014-03-10  2014\n",
       "4   71182 2014-03-17  2014"
      ]
     },
     "execution_count": 47,
     "metadata": {},
     "output_type": "execute_result"
    }
   ],
   "source": [
    "analysts_experience['ANNDATS'] = pd.to_datetime(analysts_experience['ANNDATS'])\n",
    "analysts_experience['year'] = analysts_experience['ANNDATS'].dt.year\n",
    "analysts_experience.head()"
   ]
  },
  {
   "cell_type": "code",
   "execution_count": 48,
   "metadata": {},
   "outputs": [
    {
     "data": {
      "text/html": [
       "<div>\n",
       "<style scoped>\n",
       "    .dataframe tbody tr th:only-of-type {\n",
       "        vertical-align: middle;\n",
       "    }\n",
       "\n",
       "    .dataframe tbody tr th {\n",
       "        vertical-align: top;\n",
       "    }\n",
       "\n",
       "    .dataframe thead th {\n",
       "        text-align: right;\n",
       "    }\n",
       "</style>\n",
       "<table border=\"1\" class=\"dataframe\">\n",
       "  <thead>\n",
       "    <tr style=\"text-align: right;\">\n",
       "      <th></th>\n",
       "      <th>analyst</th>\n",
       "      <th>year</th>\n",
       "    </tr>\n",
       "  </thead>\n",
       "  <tbody>\n",
       "    <tr>\n",
       "      <th>0</th>\n",
       "      <td>119962</td>\n",
       "      <td>2014</td>\n",
       "    </tr>\n",
       "    <tr>\n",
       "      <th>1</th>\n",
       "      <td>80474</td>\n",
       "      <td>2014</td>\n",
       "    </tr>\n",
       "    <tr>\n",
       "      <th>2</th>\n",
       "      <td>50789</td>\n",
       "      <td>2014</td>\n",
       "    </tr>\n",
       "    <tr>\n",
       "      <th>3</th>\n",
       "      <td>79092</td>\n",
       "      <td>2014</td>\n",
       "    </tr>\n",
       "    <tr>\n",
       "      <th>4</th>\n",
       "      <td>71182</td>\n",
       "      <td>2014</td>\n",
       "    </tr>\n",
       "  </tbody>\n",
       "</table>\n",
       "</div>"
      ],
      "text/plain": [
       "   analyst  year\n",
       "0   119962  2014\n",
       "1    80474  2014\n",
       "2    50789  2014\n",
       "3    79092  2014\n",
       "4    71182  2014"
      ]
     },
     "execution_count": 48,
     "metadata": {},
     "output_type": "execute_result"
    }
   ],
   "source": [
    "analysts_experience.rename(columns={'ANALYS':'analyst'}, inplace=True)\n",
    "analysts_experience.drop(columns='ANNDATS', inplace=True)\n",
    "analysts_experience.head()"
   ]
  },
  {
   "cell_type": "markdown",
   "metadata": {},
   "source": [
    "### Step 4 - Concat old data with new data"
   ]
  },
  {
   "cell_type": "code",
   "execution_count": 49,
   "metadata": {},
   "outputs": [
    {
     "data": {
      "text/html": [
       "<div>\n",
       "<style scoped>\n",
       "    .dataframe tbody tr th:only-of-type {\n",
       "        vertical-align: middle;\n",
       "    }\n",
       "\n",
       "    .dataframe tbody tr th {\n",
       "        vertical-align: top;\n",
       "    }\n",
       "\n",
       "    .dataframe thead th {\n",
       "        text-align: right;\n",
       "    }\n",
       "</style>\n",
       "<table border=\"1\" class=\"dataframe\">\n",
       "  <thead>\n",
       "    <tr style=\"text-align: right;\">\n",
       "      <th></th>\n",
       "      <th>analyst</th>\n",
       "      <th>year</th>\n",
       "    </tr>\n",
       "  </thead>\n",
       "  <tbody>\n",
       "    <tr>\n",
       "      <th>0</th>\n",
       "      <td>119962</td>\n",
       "      <td>2014.0</td>\n",
       "    </tr>\n",
       "    <tr>\n",
       "      <th>1</th>\n",
       "      <td>80474</td>\n",
       "      <td>2014.0</td>\n",
       "    </tr>\n",
       "    <tr>\n",
       "      <th>2</th>\n",
       "      <td>50789</td>\n",
       "      <td>2014.0</td>\n",
       "    </tr>\n",
       "    <tr>\n",
       "      <th>3</th>\n",
       "      <td>79092</td>\n",
       "      <td>2014.0</td>\n",
       "    </tr>\n",
       "    <tr>\n",
       "      <th>4</th>\n",
       "      <td>71182</td>\n",
       "      <td>2014.0</td>\n",
       "    </tr>\n",
       "  </tbody>\n",
       "</table>\n",
       "</div>"
      ],
      "text/plain": [
       "   analyst    year\n",
       "0   119962  2014.0\n",
       "1    80474  2014.0\n",
       "2    50789  2014.0\n",
       "3    79092  2014.0\n",
       "4    71182  2014.0"
      ]
     },
     "execution_count": 49,
     "metadata": {},
     "output_type": "execute_result"
    }
   ],
   "source": [
    "all_years_analyst = pd.concat([analysts_experience, df_analyst])\n",
    "all_years_analyst.drop_duplicates().reset_index(drop=True)\n",
    "all_years_analyst.head()"
   ]
  },
  {
   "cell_type": "code",
   "execution_count": 53,
   "metadata": {},
   "outputs": [],
   "source": [
    "# years of experience is calculated as a current year - first mention of analyst in dataset\n",
    "all_years_analyst['experience'] = all_years_analyst.groupby('analyst')['year'].transform(lambda x: x - x.min())"
   ]
  },
  {
   "cell_type": "code",
   "execution_count": 51,
   "metadata": {},
   "outputs": [],
   "source": [
    "all_years_analyst = all_years_analyst.drop_duplicates()"
   ]
  },
  {
   "cell_type": "code",
   "execution_count": 52,
   "metadata": {},
   "outputs": [],
   "source": [
    "all_years_analyst.to_parquet('../data/processed/analyst_experience.parquet')"
   ]
  }
 ],
 "metadata": {
  "kernelspec": {
   "display_name": "GSFM Kernel",
   "language": "python",
   "name": "gsfm_kernel"
  },
  "language_info": {
   "codemirror_mode": {
    "name": "ipython",
    "version": 3
   },
   "file_extension": ".py",
   "mimetype": "text/x-python",
   "name": "python",
   "nbconvert_exporter": "python",
   "pygments_lexer": "ipython3",
   "version": "3.10.7"
  }
 },
 "nbformat": 4,
 "nbformat_minor": 2
}
