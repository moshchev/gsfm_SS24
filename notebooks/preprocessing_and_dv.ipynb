{
 "cells": [
  {
   "cell_type": "code",
   "execution_count": null,
   "metadata": {},
   "outputs": [],
   "source": [
    "import pandas as pd\n",
    "import numpy as np\n",
    "import seaborn as sns\n",
    "import matplotlib.pyplot as plt\n",
    "import os"
   ]
  },
  {
   "cell_type": "markdown",
   "metadata": {},
   "source": [
    "# Imports"
   ]
  },
  {
   "cell_type": "code",
   "execution_count": null,
   "metadata": {},
   "outputs": [],
   "source": [
    "# file imports\n",
    "file_path_forecasts = '../data/raw/ibes-forecasts.parquet'\n",
    "\n",
    "# IBES forecasts\n",
    "df_forecasts = pd.read_parquet(file_path_forecasts)"
   ]
  },
  {
   "cell_type": "code",
   "execution_count": null,
   "metadata": {},
   "outputs": [],
   "source": [
    "df_forecasts.head()"
   ]
  },
  {
   "cell_type": "code",
   "execution_count": null,
   "metadata": {},
   "outputs": [],
   "source": [
    "df_forecasts.info()"
   ]
  },
  {
   "cell_type": "markdown",
   "metadata": {},
   "source": [
    "# Preprocessing\n",
    "df_forecasts:\n",
    "- Lower case all columns in df_forecasts\n",
    "- Drop unncessary columns\n",
    "- Include only forecasts issued no earlier than 1 year ahead and no later than 30 days before fiscal year end\n",
    "- Rename columns\n",
    "- Delete rows with actual_eps = NAN or estimated_eps = NAN\n",
    "- Exclude forecasts for companies which only one analyst provides a forecast\n",
    "- Exclude all analysts appearing in the initial 2-3 years of the dataset (migitating problem of experience)\n",
    "- (Retain the last forecast an analyst issues in a particular year)\n",
    "- ..."
   ]
  },
  {
   "cell_type": "code",
   "execution_count": null,
   "metadata": {},
   "outputs": [],
   "source": [
    "# lower case\n",
    "df_forecasts = df_forecasts.rename(columns={col: col.lower() for col in df_forecasts.columns})\n",
    "\n",
    "# Drop unncessary columns\n",
    "columns_to_drop = [\"fpi\",\"measure\",\"cusip\"]\n",
    "df_forecasts = df_forecasts.drop(columns=columns_to_drop)"
   ]
  },
  {
   "cell_type": "code",
   "execution_count": null,
   "metadata": {},
   "outputs": [],
   "source": [
    "# convert columns with dates to datetime\n",
    "def convert_to_datetime(df):\n",
    "    columns_to_convert = ['fpedats','revdats', \"anndats\", 'anndats_act']\n",
    "    for column in columns_to_convert:\n",
    "        df[column] = pd.to_datetime(df[column])\n",
    "    return df\n",
    "df_forecasts = convert_to_datetime(df_forecasts)\n",
    "\n",
    "# filter forecasts  based on time\n",
    "df_forecasts['forecast_horizon'] = df_forecasts['fpedats'] - df_forecasts['anndats']\n",
    "df_forecasts = df_forecasts[(df_forecasts['forecast_horizon']> pd.Timedelta(days=30))&(df_forecasts['forecast_horizon']<pd.Timedelta(days=365))]\n",
    "\n",
    "# calculate the mean forecast horizon of analyst i's forecasts for company j in fiscal period t and append to df\n",
    "df_forecasts['mean_forecast_horizon_days'] = df_forecasts.groupby(['analys','ticker','fpedats'])['forecast_horizon'].transform('mean')\n",
    "df_forecasts['mean_forecast_horizon_days'] = df_forecasts['mean_forecast_horizon_days'].dt.days\n",
    "df_forecasts.head()"
   ]
  },
  {
   "cell_type": "markdown",
   "metadata": {},
   "source": [
    "mean estimated eps "
   ]
  },
  {
   "cell_type": "code",
   "execution_count": null,
   "metadata": {},
   "outputs": [],
   "source": [
    "# calculate the mean forecast estimate for analyst i of company j in fiscal period t and append to df\n",
    "df_forecasts['mean_estimate_ijt'] = df_forecasts.groupby(['analys','ticker','fpedats'])['value'].transform('mean')"
   ]
  },
  {
   "cell_type": "code",
   "execution_count": null,
   "metadata": {},
   "outputs": [],
   "source": [
    "# test\n",
    "analyst_id = 113333\n",
    "subset_analyst_i = df_forecasts[(df_forecasts['ticker'] == \"AAPL\") & (df_forecasts['fpedats'].dt.year == 2020) & (df_forecasts['analys'] == analyst_id)]\n",
    "subset_analyst_i"
   ]
  },
  {
   "cell_type": "markdown",
   "metadata": {},
   "source": [
    "rename columns to natural language"
   ]
  },
  {
   "cell_type": "code",
   "execution_count": null,
   "metadata": {},
   "outputs": [],
   "source": [
    "# rename columns\n",
    "df_forecasts = df_forecasts.rename(columns={\"ticker\": \"ibes_ticker_pk\", \"oftic\": \"official_ticker\", \"cname\": \"company_name\",\n",
    "                                            \"analys\": \"analyst\", \"value\": \"estimated_eps\", \"fpedats\": \"fiscal_period_ending\", \n",
    "                                            \"revdats\": \"revision_date\", \"anndats\": \"announce_date\", \"actual\": \"actual_eps\", \"anndats_act\": \"announce_date_actual\",\n",
    "                                            \"difference_date\": \"forecast_horizon\"})"
   ]
  },
  {
   "cell_type": "code",
   "execution_count": null,
   "metadata": {},
   "outputs": [],
   "source": [
    "df_forecasts.head()"
   ]
  },
  {
   "cell_type": "markdown",
   "metadata": {},
   "source": [
    "remove empty rows and cut off time horizon"
   ]
  },
  {
   "cell_type": "code",
   "execution_count": null,
   "metadata": {},
   "outputs": [],
   "source": [
    "# drop all rows where the actual_eps is NaN and report number of rows dropped\n",
    "print(\"Number of rows dropped: \", df_forecasts['actual_eps'].isna().sum())\n",
    "df_forecasts = df_forecasts.dropna(subset=['actual_eps'])"
   ]
  },
  {
   "cell_type": "code",
   "execution_count": null,
   "metadata": {},
   "outputs": [],
   "source": [
    "# drop all rows where the estimated_eps is NaN and report number of rows dropped\n",
    "print(\"Number of rows dropped: \", df_forecasts['estimated_eps'].isna().sum())\n",
    "df_forecasts = df_forecasts.dropna(subset=['estimated_eps'])"
   ]
  },
  {
   "cell_type": "code",
   "execution_count": null,
   "metadata": {},
   "outputs": [],
   "source": [
    "# plot the forecast count by year over time for the entire dataset\n",
    "df_forecasts['fiscal_year'] = df_forecasts['fiscal_period_ending'].dt.year\n",
    "df_forecasts['actual_announce_year'] = df_forecasts['announce_date'].dt.year"
   ]
  },
  {
   "cell_type": "code",
   "execution_count": null,
   "metadata": {},
   "outputs": [],
   "source": [
    "# remove all rows of where actual_announce_year = 2023 and print the number of rows dropped\n",
    "print(\"Number of rows dropped: \", df_forecasts['actual_announce_year'].value_counts().loc[2023])\n",
    "df_forecasts = df_forecasts[df_forecasts['actual_announce_year'] != 2023]\n"
   ]
  },
  {
   "cell_type": "code",
   "execution_count": null,
   "metadata": {},
   "outputs": [],
   "source": [
    "# remove all rows of where fiscal_year = 2023 and print the number of rows dropped\n",
    "print(\"Number of rows dropped: \", df_forecasts['fiscal_year'].value_counts().loc[2023])\n",
    "df_forecasts = df_forecasts[df_forecasts['fiscal_year'] != 2023]"
   ]
  },
  {
   "cell_type": "code",
   "execution_count": null,
   "metadata": {},
   "outputs": [],
   "source": [
    "fig, ax = plt.subplots(figsize=(10, 6))\n",
    "sns.countplot(data=df_forecasts, x='fiscal_year', ax=ax)\n",
    "ax.set_title('Forecast count by year')"
   ]
  },
  {
   "cell_type": "markdown",
   "metadata": {},
   "source": [
    "# Accuracies\n",
    "\n",
    "## Variant 1: PMAFE \n",
    "PMAFE is the proportional mean absolute forecast error\n",
    "\n",
    "$$PMAFE = \\frac{DAFE_{ijt}}{\\overline{AFE_{jt}}} = \\frac{AFE_{ijt} - \\overline{AFE_{jt}}}{\\overline{AFE_{jt}}} $$\n",
    "\n",
    "where \n",
    "- $AFE_{ijt}$ is the absolute forecast error for analyst i's forecast of firm j for year t, and \n",
    "- $\\overline{AFE_{jt}}$ is the mean absolute forecast error for firm j for year t\n",
    "\n",
    "Negative PMAFE: better than average performance of analyst i (capped at -1.0)\n",
    "\n",
    "Postive PMAFE: worse than average performance (theoretically towards infinity)\n",
    "\n",
    "Source: Analyst forecast accuracy:\n",
    "Do ability, resources, and\n",
    "portfolio complexity matter?q\n",
    "Michael B. Clement"
   ]
  },
  {
   "cell_type": "code",
   "execution_count": null,
   "metadata": {},
   "outputs": [],
   "source": [
    "def calculate_pmafe(df):\n",
    "    \"\"\"\n",
    "    This function first calculates the absolute forecast error for each analyst i forecast of firm j in year t\n",
    "    If analyst i has multiple forecasts for firm j in year t, the function calculates the average forecast error\n",
    "    In the second step an extra column is calculated for the overall forecast error is calculate for each firm j in year t\n",
    "    In the third step, the function calculates the PMAFE for each analyst i forecast of firm j in year t\n",
    "    This function adds new columns to the dataframe:\n",
    "    - afe_analyst_i: the absolute forecast error for each analyst i forecast of firm j in year t\n",
    "    - afe_analyst_ijt_mean: the average absolute forecast error for each analyst i forecast of firm j in year t\n",
    "    - afe_firm_jt_mean: the overall forecast error for each firm j in year t\n",
    "    - pmafe: the PMAFE for each analyst i forecast of firm j in year t\n",
    "    \"\"\"\n",
    "    # Step 1: Calculate the average absolute forecast error for each analyst i forecast of firm j in year t\n",
    "    df['afe_analyst_i'] = np.abs(df['estimated_eps'] - df['actual_eps'])\n",
    "    \n",
    "    df_grouped = df.groupby(['ibes_ticker_pk', 'analyst', 'fiscal_period_ending']).agg({'afe_analyst_i': 'mean'}).reset_index()\n",
    "    df_grouped = df_grouped.rename(columns={'afe_analyst_i': 'afe_analyst_ijt_mean'})\n",
    "    df = pd.merge(df, df_grouped, on=['ibes_ticker_pk', 'analyst', 'fiscal_period_ending'], how='left')\n",
    "    \n",
    "    # Step 2: Calculate the overall forecast error for each firm j in year t\n",
    "    df['afe_firm_jt_mean'] = df.groupby([\"ibes_ticker_pk\", \"fiscal_period_ending\"])[\"afe_analyst_i\"].transform(\"mean\")\n",
    "    \n",
    "    # Step 3: Calculate the PMAFE for each analyst i forecast of firm j in year t\n",
    "    df['pmafe'] = (df['afe_analyst_ijt_mean'] - df['afe_firm_jt_mean']) / df['afe_firm_jt_mean']\n",
    "    \n",
    "    return df"
   ]
  },
  {
   "cell_type": "code",
   "execution_count": null,
   "metadata": {},
   "outputs": [],
   "source": [
    "df_forecasts = calculate_pmafe(df_forecasts)\n",
    "df_forecasts.head()"
   ]
  },
  {
   "cell_type": "code",
   "execution_count": null,
   "metadata": {},
   "outputs": [],
   "source": [
    "# for descriptive statistics\n",
    "df_forecasts.to_parquet('../data/processed/ibes_forecasts_revisions.parquet')"
   ]
  },
  {
   "cell_type": "markdown",
   "metadata": {},
   "source": [
    "## Collapse df\n",
    "\n",
    "in the final df, one row should correspond to one analyst i's mean forecast of firm j in fiscal year t with accuracy measure pmafe\n",
    "\n",
    "columns:\n",
    " - ibes_ticker_pk\n",
    " - company_name\n",
    " - gvkey\n",
    " - fiscal_period_ending\n",
    " - analyst\n",
    " - estimator\n",
    " - estimated_eps\n",
    " - mean_forecast_horizon\n",
    " - actual_eps\n",
    " - announce_date_actual\n",
    " - pmafe\n",
    " - afe_analyst_i_mean\n",
    " - afe_firm_j_mean\n",
    " - feature x\n",
    " - ..."
   ]
  },
  {
   "cell_type": "markdown",
   "metadata": {},
   "source": [
    "### Feature : Coverage"
   ]
  },
  {
   "cell_type": "code",
   "execution_count": null,
   "metadata": {},
   "outputs": [],
   "source": [
    "df_forecasts.head()"
   ]
  },
  {
   "cell_type": "code",
   "execution_count": null,
   "metadata": {},
   "outputs": [],
   "source": [
    "# test\n",
    "analyst_id = 113333\n",
    "test = df_forecasts[(df_forecasts['official_ticker'] == \"AAPL\") & (df_forecasts['fiscal_period_ending'].dt.year == 2018) & (df_forecasts['analyst'] == analyst_id)]\n",
    "test"
   ]
  },
  {
   "cell_type": "code",
   "execution_count": null,
   "metadata": {},
   "outputs": [],
   "source": [
    "# Group by 'ibes_ticker_pk', 'analyst', 'fiscal_period_ending' and find the row with the minimum 'forecast_horizon'\n",
    "min_forecast = test.groupby(['ibes_ticker_pk', 'analyst', 'fiscal_period_ending'])['forecast_horizon'].idxmin()\n",
    "\n",
    "# Extract rows with the minimum forecast horizon\n",
    "min_forecast_df = test.loc[min_forecast]"
   ]
  },
  {
   "cell_type": "code",
   "execution_count": null,
   "metadata": {},
   "outputs": [],
   "source": [
    "min_forecast_df"
   ]
  },
  {
   "cell_type": "code",
   "execution_count": null,
   "metadata": {},
   "outputs": [],
   "source": [
    "def collapse_processed_df(df):\n",
    "    \"\"\"_summary_\n",
    "    This function collapses/groups the input df into the final df so that one row should correspond to one analyst \n",
    "    i's forecast of firm j in fiscal year t with accuracy measure pmafe and other relevant features\n",
    "    \"\"\"\n",
    "    min_forecast = df.groupby(['ibes_ticker_pk', 'analyst', 'fiscal_period_ending'])['forecast_horizon'].idxmin()\n",
    "    min_forecast_df = df.loc[min_forecast]\n",
    "    return min_forecast_df\n"
   ]
  },
  {
   "cell_type": "code",
   "execution_count": null,
   "metadata": {},
   "outputs": [],
   "source": [
    "collapsed_df = collapse_processed_df(df_forecasts)\n",
    "collapsed_df.head()"
   ]
  },
  {
   "cell_type": "code",
   "execution_count": null,
   "metadata": {},
   "outputs": [],
   "source": [
    "collapsed_df.shape"
   ]
  },
  {
   "cell_type": "code",
   "execution_count": null,
   "metadata": {},
   "outputs": [],
   "source": [
    "filtered_df = collapsed_df[(collapsed_df['analyst'] == analyst_id) & (collapsed_df['fiscal_period_ending'].dt.year == 2018) & ((collapsed_df['official_ticker'] == \"NFLX\") | (collapsed_df['official_ticker'] == \"AAPL\"))]\n",
    "filtered_df"
   ]
  },
  {
   "cell_type": "code",
   "execution_count": null,
   "metadata": {},
   "outputs": [],
   "source": [
    "# density plot of PMAFE for all forecasts\n",
    "plt.figure(figsize=(10, 6))\n",
    "sns.kdeplot(collapsed_df['pmafe'], fill=True)\n",
    "plt.title(\"PMAFE Distribution for all Forecasts\")\n",
    "plt.xlabel(\"PMAFE\")\n",
    "plt.ylabel(\"Density\")\n",
    "plt.show()"
   ]
  },
  {
   "cell_type": "code",
   "execution_count": null,
   "metadata": {},
   "outputs": [],
   "source": [
    "# show me all rows where pmafe is NaN and print the count\n",
    "print(\"Number of rows with pmafe NaN: \", collapsed_df['pmafe'].isna().sum())"
   ]
  },
  {
   "cell_type": "code",
   "execution_count": null,
   "metadata": {},
   "outputs": [],
   "source": [
    "# drop all rows where pmafe is NaN\n",
    "collapsed_df = collapsed_df.dropna(subset=['pmafe'])"
   ]
  },
  {
   "cell_type": "markdown",
   "metadata": {},
   "source": [
    "Reason: forecasts for companies in year t, if only one analyst provides a forecast (otherwise pmafe = NaN if actual == estimated) AND the analyst provides a perfect forecast"
   ]
  },
  {
   "cell_type": "code",
   "execution_count": null,
   "metadata": {},
   "outputs": [],
   "source": [
    "collapsed_df['analysts_following_j'] = collapsed_df.groupby(['ibes_ticker_pk','fiscal_period_ending'])['analyst'].transform('count')\n",
    "collapsed_df.head()"
   ]
  },
  {
   "cell_type": "markdown",
   "metadata": {},
   "source": [
    "# Export df"
   ]
  },
  {
   "cell_type": "code",
   "execution_count": null,
   "metadata": {},
   "outputs": [],
   "source": [
    "# for descriptive statistics\n",
    "collapsed_df.to_parquet('../data/processed/ibes_forecasts_collapsed.parquet')"
   ]
  }
 ],
 "metadata": {
  "kernelspec": {
   "display_name": "Python 3",
   "language": "python",
   "name": "python3"
  },
  "language_info": {
   "codemirror_mode": {
    "name": "ipython",
    "version": 3
   },
   "file_extension": ".py",
   "mimetype": "text/x-python",
   "name": "python",
   "nbconvert_exporter": "python",
   "pygments_lexer": "ipython3",
   "version": "3.11.5"
  }
 },
 "nbformat": 4,
 "nbformat_minor": 2
}
