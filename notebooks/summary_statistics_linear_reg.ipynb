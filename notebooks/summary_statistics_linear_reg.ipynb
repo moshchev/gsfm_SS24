{
 "cells": [
  {
   "cell_type": "code",
   "execution_count": 32,
   "metadata": {},
   "outputs": [],
   "source": [
    "import pandas as pd\n",
    "import numpy as np\n",
    "import matplotlib.pyplot as plt\n",
    "import seaborn as sns\n",
    "from statsmodels.api import OLS\n",
    "\n",
    "setoption = pd.set_option('display.max_columns', None)"
   ]
  },
  {
   "cell_type": "markdown",
   "metadata": {},
   "source": [
    "# Import"
   ]
  },
  {
   "cell_type": "code",
   "execution_count": 17,
   "metadata": {},
   "outputs": [],
   "source": [
    "# file imports\n",
    "file_path = '../data/processed/forecasts_pmafe_v2.csv'\n",
    "\n",
    "# Import marius_eda data\n",
    "df = pd.read_csv(file_path)"
   ]
  },
  {
   "cell_type": "code",
   "execution_count": 18,
   "metadata": {},
   "outputs": [
    {
     "data": {
      "text/html": [
       "<div>\n",
       "<style scoped>\n",
       "    .dataframe tbody tr th:only-of-type {\n",
       "        vertical-align: middle;\n",
       "    }\n",
       "\n",
       "    .dataframe tbody tr th {\n",
       "        vertical-align: top;\n",
       "    }\n",
       "\n",
       "    .dataframe thead th {\n",
       "        text-align: right;\n",
       "    }\n",
       "</style>\n",
       "<table border=\"1\" class=\"dataframe\">\n",
       "  <thead>\n",
       "    <tr style=\"text-align: right;\">\n",
       "      <th></th>\n",
       "      <th>Unnamed: 0</th>\n",
       "      <th>ibes_ticker_pk</th>\n",
       "      <th>official_ticker</th>\n",
       "      <th>company_name</th>\n",
       "      <th>estimator</th>\n",
       "      <th>analyst</th>\n",
       "      <th>estimated_eps</th>\n",
       "      <th>fiscal_period_ending</th>\n",
       "      <th>revision_date</th>\n",
       "      <th>announce_date</th>\n",
       "      <th>actual_eps</th>\n",
       "      <th>announce_date_actual</th>\n",
       "      <th>forecast_horizon</th>\n",
       "      <th>mean_forecast_horizon_days</th>\n",
       "      <th>afe_analyst_i</th>\n",
       "      <th>afe_analyst_ijt_mean</th>\n",
       "      <th>afe_firm_jt_mean</th>\n",
       "      <th>pmafe</th>\n",
       "      <th>analyst_count</th>\n",
       "    </tr>\n",
       "  </thead>\n",
       "  <tbody>\n",
       "    <tr>\n",
       "      <th>0</th>\n",
       "      <td>26</td>\n",
       "      <td>0000</td>\n",
       "      <td>TLMR</td>\n",
       "      <td>TALMER BANCORP</td>\n",
       "      <td>258</td>\n",
       "      <td>8675</td>\n",
       "      <td>0.89</td>\n",
       "      <td>2015-12-31</td>\n",
       "      <td>2015-12-23</td>\n",
       "      <td>2015-10-30</td>\n",
       "      <td>1.02</td>\n",
       "      <td>2016-01-26</td>\n",
       "      <td>62 days</td>\n",
       "      <td>112</td>\n",
       "      <td>0.13</td>\n",
       "      <td>0.146667</td>\n",
       "      <td>0.166786</td>\n",
       "      <td>-0.120628</td>\n",
       "      <td>28</td>\n",
       "    </tr>\n",
       "    <tr>\n",
       "      <th>1</th>\n",
       "      <td>23</td>\n",
       "      <td>0000</td>\n",
       "      <td>TLMR</td>\n",
       "      <td>TALMER BANCORP</td>\n",
       "      <td>1267</td>\n",
       "      <td>71182</td>\n",
       "      <td>0.90</td>\n",
       "      <td>2015-12-31</td>\n",
       "      <td>2015-11-10</td>\n",
       "      <td>2015-10-29</td>\n",
       "      <td>1.02</td>\n",
       "      <td>2016-01-26</td>\n",
       "      <td>63 days</td>\n",
       "      <td>181</td>\n",
       "      <td>0.12</td>\n",
       "      <td>0.158000</td>\n",
       "      <td>0.166786</td>\n",
       "      <td>-0.052677</td>\n",
       "      <td>28</td>\n",
       "    </tr>\n",
       "    <tr>\n",
       "      <th>2</th>\n",
       "      <td>25</td>\n",
       "      <td>0000</td>\n",
       "      <td>TLMR</td>\n",
       "      <td>TALMER BANCORP</td>\n",
       "      <td>2500</td>\n",
       "      <td>72481</td>\n",
       "      <td>0.86</td>\n",
       "      <td>2015-12-31</td>\n",
       "      <td>2015-10-30</td>\n",
       "      <td>2015-10-30</td>\n",
       "      <td>1.02</td>\n",
       "      <td>2016-01-26</td>\n",
       "      <td>62 days</td>\n",
       "      <td>173</td>\n",
       "      <td>0.16</td>\n",
       "      <td>0.198000</td>\n",
       "      <td>0.166786</td>\n",
       "      <td>0.187152</td>\n",
       "      <td>28</td>\n",
       "    </tr>\n",
       "    <tr>\n",
       "      <th>3</th>\n",
       "      <td>20</td>\n",
       "      <td>0000</td>\n",
       "      <td>TLMR</td>\n",
       "      <td>TALMER BANCORP</td>\n",
       "      <td>873</td>\n",
       "      <td>79092</td>\n",
       "      <td>0.89</td>\n",
       "      <td>2015-12-31</td>\n",
       "      <td>2015-11-05</td>\n",
       "      <td>2015-09-28</td>\n",
       "      <td>1.02</td>\n",
       "      <td>2016-01-26</td>\n",
       "      <td>94 days</td>\n",
       "      <td>171</td>\n",
       "      <td>0.13</td>\n",
       "      <td>0.136667</td>\n",
       "      <td>0.166786</td>\n",
       "      <td>-0.180585</td>\n",
       "      <td>28</td>\n",
       "    </tr>\n",
       "    <tr>\n",
       "      <th>4</th>\n",
       "      <td>24</td>\n",
       "      <td>0000</td>\n",
       "      <td>TLMR</td>\n",
       "      <td>TALMER BANCORP</td>\n",
       "      <td>228</td>\n",
       "      <td>80474</td>\n",
       "      <td>0.89</td>\n",
       "      <td>2015-12-31</td>\n",
       "      <td>2015-12-08</td>\n",
       "      <td>2015-10-29</td>\n",
       "      <td>1.02</td>\n",
       "      <td>2016-01-26</td>\n",
       "      <td>63 days</td>\n",
       "      <td>148</td>\n",
       "      <td>0.13</td>\n",
       "      <td>0.164000</td>\n",
       "      <td>0.166786</td>\n",
       "      <td>-0.016702</td>\n",
       "      <td>28</td>\n",
       "    </tr>\n",
       "  </tbody>\n",
       "</table>\n",
       "</div>"
      ],
      "text/plain": [
       "   Unnamed: 0 ibes_ticker_pk official_ticker    company_name  estimator  \\\n",
       "0          26           0000            TLMR  TALMER BANCORP        258   \n",
       "1          23           0000            TLMR  TALMER BANCORP       1267   \n",
       "2          25           0000            TLMR  TALMER BANCORP       2500   \n",
       "3          20           0000            TLMR  TALMER BANCORP        873   \n",
       "4          24           0000            TLMR  TALMER BANCORP        228   \n",
       "\n",
       "   analyst  estimated_eps fiscal_period_ending revision_date announce_date  \\\n",
       "0     8675           0.89           2015-12-31    2015-12-23    2015-10-30   \n",
       "1    71182           0.90           2015-12-31    2015-11-10    2015-10-29   \n",
       "2    72481           0.86           2015-12-31    2015-10-30    2015-10-30   \n",
       "3    79092           0.89           2015-12-31    2015-11-05    2015-09-28   \n",
       "4    80474           0.89           2015-12-31    2015-12-08    2015-10-29   \n",
       "\n",
       "   actual_eps announce_date_actual forecast_horizon  \\\n",
       "0        1.02           2016-01-26          62 days   \n",
       "1        1.02           2016-01-26          63 days   \n",
       "2        1.02           2016-01-26          62 days   \n",
       "3        1.02           2016-01-26          94 days   \n",
       "4        1.02           2016-01-26          63 days   \n",
       "\n",
       "   mean_forecast_horizon_days  afe_analyst_i  afe_analyst_ijt_mean  \\\n",
       "0                         112           0.13              0.146667   \n",
       "1                         181           0.12              0.158000   \n",
       "2                         173           0.16              0.198000   \n",
       "3                         171           0.13              0.136667   \n",
       "4                         148           0.13              0.164000   \n",
       "\n",
       "   afe_firm_jt_mean     pmafe  analyst_count  \n",
       "0          0.166786 -0.120628             28  \n",
       "1          0.166786 -0.052677             28  \n",
       "2          0.166786  0.187152             28  \n",
       "3          0.166786 -0.180585             28  \n",
       "4          0.166786 -0.016702             28  "
      ]
     },
     "execution_count": 18,
     "metadata": {},
     "output_type": "execute_result"
    }
   ],
   "source": [
    "df.head()"
   ]
  },
  {
   "cell_type": "code",
   "execution_count": 19,
   "metadata": {},
   "outputs": [
    {
     "data": {
      "text/plain": [
       "(328831, 19)"
      ]
     },
     "execution_count": 19,
     "metadata": {},
     "output_type": "execute_result"
    }
   ],
   "source": [
    "df.shape"
   ]
  },
  {
   "cell_type": "markdown",
   "metadata": {},
   "source": [
    "# Descriptive Charts \n",
    "Hypotheses:\n",
    "\n",
    "1. Hypothesis: Covid had an impact on analysts forecast accuarcy\n",
    "2. Hypothesis: The analyst accuarcy increases, the closer the annouce date of the firm\n",
    "3. Hypothesis: Analysts working at the biggest 10 % brokers by analyst count has a positive impact on PMAFE\n",
    "4. Hypothesis: Analysts forecast accuarcy decreases with the number of industries followed"
   ]
  },
  {
   "cell_type": "code",
   "execution_count": 35,
   "metadata": {},
   "outputs": [
    {
     "data": {
      "text/html": [
       "<div>\n",
       "<style scoped>\n",
       "    .dataframe tbody tr th:only-of-type {\n",
       "        vertical-align: middle;\n",
       "    }\n",
       "\n",
       "    .dataframe tbody tr th {\n",
       "        vertical-align: top;\n",
       "    }\n",
       "\n",
       "    .dataframe thead th {\n",
       "        text-align: right;\n",
       "    }\n",
       "</style>\n",
       "<table border=\"1\" class=\"dataframe\">\n",
       "  <thead>\n",
       "    <tr style=\"text-align: right;\">\n",
       "      <th></th>\n",
       "      <th>Unnamed: 0</th>\n",
       "      <th>ibes_ticker_pk</th>\n",
       "      <th>official_ticker</th>\n",
       "      <th>company_name</th>\n",
       "      <th>estimator</th>\n",
       "      <th>analyst</th>\n",
       "      <th>estimated_eps</th>\n",
       "      <th>fiscal_period_ending</th>\n",
       "      <th>revision_date</th>\n",
       "      <th>announce_date</th>\n",
       "      <th>actual_eps</th>\n",
       "      <th>announce_date_actual</th>\n",
       "      <th>forecast_horizon</th>\n",
       "      <th>mean_forecast_horizon_days</th>\n",
       "      <th>afe_analyst_i</th>\n",
       "      <th>afe_analyst_ijt_mean</th>\n",
       "      <th>afe_firm_jt_mean</th>\n",
       "      <th>pmafe</th>\n",
       "      <th>analyst_count</th>\n",
       "      <th>year</th>\n",
       "    </tr>\n",
       "  </thead>\n",
       "  <tbody>\n",
       "    <tr>\n",
       "      <th>283470</th>\n",
       "      <td>1191131</td>\n",
       "      <td>SYRX</td>\n",
       "      <td>SYRX</td>\n",
       "      <td>SYSOREX GLOBAL</td>\n",
       "      <td>954</td>\n",
       "      <td>77381</td>\n",
       "      <td>-8505000.00</td>\n",
       "      <td>2016-12-31</td>\n",
       "      <td>2016-03-10</td>\n",
       "      <td>2016-03-10</td>\n",
       "      <td>-30132000.00</td>\n",
       "      <td>2017-04-17</td>\n",
       "      <td>296 days</td>\n",
       "      <td>296</td>\n",
       "      <td>21627000.00</td>\n",
       "      <td>2.162700e+07</td>\n",
       "      <td>1.471667e+07</td>\n",
       "      <td>0.469558</td>\n",
       "      <td>8</td>\n",
       "      <td>2016</td>\n",
       "    </tr>\n",
       "    <tr>\n",
       "      <th>122218</th>\n",
       "      <td>509282</td>\n",
       "      <td>ETRM</td>\n",
       "      <td>ETRM</td>\n",
       "      <td>ENTEROMEDICS INC</td>\n",
       "      <td>2342</td>\n",
       "      <td>107358</td>\n",
       "      <td>-92610000.00</td>\n",
       "      <td>2015-12-31</td>\n",
       "      <td>2015-12-17</td>\n",
       "      <td>2015-02-18</td>\n",
       "      <td>-75322800.00</td>\n",
       "      <td>2016-02-17</td>\n",
       "      <td>316 days</td>\n",
       "      <td>316</td>\n",
       "      <td>17287200.00</td>\n",
       "      <td>1.728720e+07</td>\n",
       "      <td>7.245000e+06</td>\n",
       "      <td>1.386087</td>\n",
       "      <td>14</td>\n",
       "      <td>2015</td>\n",
       "    </tr>\n",
       "    <tr>\n",
       "      <th>122220</th>\n",
       "      <td>509290</td>\n",
       "      <td>ETRM</td>\n",
       "      <td>ETRM</td>\n",
       "      <td>ENTEROMEDICS INC</td>\n",
       "      <td>3724</td>\n",
       "      <td>109069</td>\n",
       "      <td>-79380000.00</td>\n",
       "      <td>2015-12-31</td>\n",
       "      <td>2015-08-17</td>\n",
       "      <td>2015-08-07</td>\n",
       "      <td>-75322800.00</td>\n",
       "      <td>2016-02-17</td>\n",
       "      <td>146 days</td>\n",
       "      <td>215</td>\n",
       "      <td>4057200.00</td>\n",
       "      <td>7.114800e+06</td>\n",
       "      <td>7.245000e+06</td>\n",
       "      <td>-0.017971</td>\n",
       "      <td>14</td>\n",
       "      <td>2015</td>\n",
       "    </tr>\n",
       "    <tr>\n",
       "      <th>122222</th>\n",
       "      <td>509292</td>\n",
       "      <td>ETRM</td>\n",
       "      <td>ETRM</td>\n",
       "      <td>ENTEROMEDICS INC</td>\n",
       "      <td>2223</td>\n",
       "      <td>143682</td>\n",
       "      <td>-79380000.00</td>\n",
       "      <td>2015-12-31</td>\n",
       "      <td>2015-11-10</td>\n",
       "      <td>2015-11-10</td>\n",
       "      <td>-75322800.00</td>\n",
       "      <td>2016-02-17</td>\n",
       "      <td>51 days</td>\n",
       "      <td>165</td>\n",
       "      <td>4057200.00</td>\n",
       "      <td>4.057200e+06</td>\n",
       "      <td>7.245000e+06</td>\n",
       "      <td>-0.440000</td>\n",
       "      <td>14</td>\n",
       "      <td>2015</td>\n",
       "    </tr>\n",
       "    <tr>\n",
       "      <th>283469</th>\n",
       "      <td>1191128</td>\n",
       "      <td>SYRX</td>\n",
       "      <td>SYRX</td>\n",
       "      <td>SYSOREX GLOBAL</td>\n",
       "      <td>954</td>\n",
       "      <td>77381</td>\n",
       "      <td>-27337500.00</td>\n",
       "      <td>2015-12-31</td>\n",
       "      <td>2015-11-16</td>\n",
       "      <td>2015-11-05</td>\n",
       "      <td>-30375000.00</td>\n",
       "      <td>2016-03-10</td>\n",
       "      <td>56 days</td>\n",
       "      <td>185</td>\n",
       "      <td>3037500.00</td>\n",
       "      <td>6.986250e+06</td>\n",
       "      <td>3.915000e+06</td>\n",
       "      <td>0.784483</td>\n",
       "      <td>9</td>\n",
       "      <td>2015</td>\n",
       "    </tr>\n",
       "    <tr>\n",
       "      <th>...</th>\n",
       "      <td>...</td>\n",
       "      <td>...</td>\n",
       "      <td>...</td>\n",
       "      <td>...</td>\n",
       "      <td>...</td>\n",
       "      <td>...</td>\n",
       "      <td>...</td>\n",
       "      <td>...</td>\n",
       "      <td>...</td>\n",
       "      <td>...</td>\n",
       "      <td>...</td>\n",
       "      <td>...</td>\n",
       "      <td>...</td>\n",
       "      <td>...</td>\n",
       "      <td>...</td>\n",
       "      <td>...</td>\n",
       "      <td>...</td>\n",
       "      <td>...</td>\n",
       "      <td>...</td>\n",
       "      <td>...</td>\n",
       "    </tr>\n",
       "    <tr>\n",
       "      <th>226817</th>\n",
       "      <td>947210</td>\n",
       "      <td>ORIG</td>\n",
       "      <td>ORIG</td>\n",
       "      <td>OCEAN RIG UDW</td>\n",
       "      <td>714</td>\n",
       "      <td>187036</td>\n",
       "      <td>276.00</td>\n",
       "      <td>2017-12-31</td>\n",
       "      <td>2017-04-25</td>\n",
       "      <td>2017-04-25</td>\n",
       "      <td>8.98</td>\n",
       "      <td>2018-02-20</td>\n",
       "      <td>250 days</td>\n",
       "      <td>273</td>\n",
       "      <td>267.02</td>\n",
       "      <td>2.300000e+02</td>\n",
       "      <td>1.241166e+04</td>\n",
       "      <td>-0.981469</td>\n",
       "      <td>11</td>\n",
       "      <td>2017</td>\n",
       "    </tr>\n",
       "    <tr>\n",
       "      <th>28159</th>\n",
       "      <td>108079</td>\n",
       "      <td>ACRD</td>\n",
       "      <td>ACOR</td>\n",
       "      <td>ACORDA</td>\n",
       "      <td>2628</td>\n",
       "      <td>55673</td>\n",
       "      <td>-472.80</td>\n",
       "      <td>2019-12-31</td>\n",
       "      <td>2019-10-18</td>\n",
       "      <td>2019-08-02</td>\n",
       "      <td>-206.40</td>\n",
       "      <td>2020-02-13</td>\n",
       "      <td>151 days</td>\n",
       "      <td>235</td>\n",
       "      <td>266.40</td>\n",
       "      <td>3.438000e+02</td>\n",
       "      <td>2.533343e+02</td>\n",
       "      <td>0.357100</td>\n",
       "      <td>42</td>\n",
       "      <td>2019</td>\n",
       "    </tr>\n",
       "    <tr>\n",
       "      <th>117471</th>\n",
       "      <td>489254</td>\n",
       "      <td>ENIC</td>\n",
       "      <td>ENIC</td>\n",
       "      <td>ENEL CHILE</td>\n",
       "      <td>3534</td>\n",
       "      <td>54118</td>\n",
       "      <td>326.61</td>\n",
       "      <td>2021-12-31</td>\n",
       "      <td>2022-03-02</td>\n",
       "      <td>2021-05-05</td>\n",
       "      <td>61.50</td>\n",
       "      <td>2022-02-28</td>\n",
       "      <td>240 days</td>\n",
       "      <td>272</td>\n",
       "      <td>265.11</td>\n",
       "      <td>3.355350e+02</td>\n",
       "      <td>2.062284e+02</td>\n",
       "      <td>0.627007</td>\n",
       "      <td>7</td>\n",
       "      <td>2021</td>\n",
       "    </tr>\n",
       "    <tr>\n",
       "      <th>30222</th>\n",
       "      <td>115670</td>\n",
       "      <td>ADXS</td>\n",
       "      <td>ADXS</td>\n",
       "      <td>ADVAXIS INC</td>\n",
       "      <td>142</td>\n",
       "      <td>153151</td>\n",
       "      <td>-2232.00</td>\n",
       "      <td>2016-10-31</td>\n",
       "      <td>2016-10-24</td>\n",
       "      <td>2016-04-07</td>\n",
       "      <td>-2496.00</td>\n",
       "      <td>2017-01-09</td>\n",
       "      <td>207 days</td>\n",
       "      <td>207</td>\n",
       "      <td>264.00</td>\n",
       "      <td>2.640000e+02</td>\n",
       "      <td>4.430769e+02</td>\n",
       "      <td>-0.404167</td>\n",
       "      <td>13</td>\n",
       "      <td>2016</td>\n",
       "    </tr>\n",
       "    <tr>\n",
       "      <th>77475</th>\n",
       "      <td>317854</td>\n",
       "      <td>CFRX</td>\n",
       "      <td>CFRX</td>\n",
       "      <td>CONTRAFECT</td>\n",
       "      <td>31</td>\n",
       "      <td>112401</td>\n",
       "      <td>-944.00</td>\n",
       "      <td>2016-12-31</td>\n",
       "      <td>2016-11-10</td>\n",
       "      <td>2016-11-10</td>\n",
       "      <td>-680.00</td>\n",
       "      <td>2017-03-15</td>\n",
       "      <td>51 days</td>\n",
       "      <td>73</td>\n",
       "      <td>264.00</td>\n",
       "      <td>1.840000e+02</td>\n",
       "      <td>1.696000e+02</td>\n",
       "      <td>0.084906</td>\n",
       "      <td>15</td>\n",
       "      <td>2016</td>\n",
       "    </tr>\n",
       "  </tbody>\n",
       "</table>\n",
       "<p>1000 rows × 20 columns</p>\n",
       "</div>"
      ],
      "text/plain": [
       "        Unnamed: 0 ibes_ticker_pk official_ticker      company_name  \\\n",
       "283470     1191131           SYRX            SYRX    SYSOREX GLOBAL   \n",
       "122218      509282           ETRM            ETRM  ENTEROMEDICS INC   \n",
       "122220      509290           ETRM            ETRM  ENTEROMEDICS INC   \n",
       "122222      509292           ETRM            ETRM  ENTEROMEDICS INC   \n",
       "283469     1191128           SYRX            SYRX    SYSOREX GLOBAL   \n",
       "...            ...            ...             ...               ...   \n",
       "226817      947210           ORIG            ORIG     OCEAN RIG UDW   \n",
       "28159       108079           ACRD            ACOR            ACORDA   \n",
       "117471      489254           ENIC            ENIC        ENEL CHILE   \n",
       "30222       115670           ADXS            ADXS       ADVAXIS INC   \n",
       "77475       317854           CFRX            CFRX        CONTRAFECT   \n",
       "\n",
       "        estimator  analyst  estimated_eps fiscal_period_ending revision_date  \\\n",
       "283470        954    77381    -8505000.00           2016-12-31    2016-03-10   \n",
       "122218       2342   107358   -92610000.00           2015-12-31    2015-12-17   \n",
       "122220       3724   109069   -79380000.00           2015-12-31    2015-08-17   \n",
       "122222       2223   143682   -79380000.00           2015-12-31    2015-11-10   \n",
       "283469        954    77381   -27337500.00           2015-12-31    2015-11-16   \n",
       "...           ...      ...            ...                  ...           ...   \n",
       "226817        714   187036         276.00           2017-12-31    2017-04-25   \n",
       "28159        2628    55673        -472.80           2019-12-31    2019-10-18   \n",
       "117471       3534    54118         326.61           2021-12-31    2022-03-02   \n",
       "30222         142   153151       -2232.00           2016-10-31    2016-10-24   \n",
       "77475          31   112401        -944.00           2016-12-31    2016-11-10   \n",
       "\n",
       "       announce_date   actual_eps announce_date_actual forecast_horizon  \\\n",
       "283470    2016-03-10 -30132000.00           2017-04-17         296 days   \n",
       "122218    2015-02-18 -75322800.00           2016-02-17         316 days   \n",
       "122220    2015-08-07 -75322800.00           2016-02-17         146 days   \n",
       "122222    2015-11-10 -75322800.00           2016-02-17          51 days   \n",
       "283469    2015-11-05 -30375000.00           2016-03-10          56 days   \n",
       "...              ...          ...                  ...              ...   \n",
       "226817    2017-04-25         8.98           2018-02-20         250 days   \n",
       "28159     2019-08-02      -206.40           2020-02-13         151 days   \n",
       "117471    2021-05-05        61.50           2022-02-28         240 days   \n",
       "30222     2016-04-07     -2496.00           2017-01-09         207 days   \n",
       "77475     2016-11-10      -680.00           2017-03-15          51 days   \n",
       "\n",
       "        mean_forecast_horizon_days  afe_analyst_i  afe_analyst_ijt_mean  \\\n",
       "283470                         296    21627000.00          2.162700e+07   \n",
       "122218                         316    17287200.00          1.728720e+07   \n",
       "122220                         215     4057200.00          7.114800e+06   \n",
       "122222                         165     4057200.00          4.057200e+06   \n",
       "283469                         185     3037500.00          6.986250e+06   \n",
       "...                            ...            ...                   ...   \n",
       "226817                         273         267.02          2.300000e+02   \n",
       "28159                          235         266.40          3.438000e+02   \n",
       "117471                         272         265.11          3.355350e+02   \n",
       "30222                          207         264.00          2.640000e+02   \n",
       "77475                           73         264.00          1.840000e+02   \n",
       "\n",
       "        afe_firm_jt_mean     pmafe  analyst_count  year  \n",
       "283470      1.471667e+07  0.469558              8  2016  \n",
       "122218      7.245000e+06  1.386087             14  2015  \n",
       "122220      7.245000e+06 -0.017971             14  2015  \n",
       "122222      7.245000e+06 -0.440000             14  2015  \n",
       "283469      3.915000e+06  0.784483              9  2015  \n",
       "...                  ...       ...            ...   ...  \n",
       "226817      1.241166e+04 -0.981469             11  2017  \n",
       "28159       2.533343e+02  0.357100             42  2019  \n",
       "117471      2.062284e+02  0.627007              7  2021  \n",
       "30222       4.430769e+02 -0.404167             13  2016  \n",
       "77475       1.696000e+02  0.084906             15  2016  \n",
       "\n",
       "[1000 rows x 20 columns]"
      ]
     },
     "execution_count": 35,
     "metadata": {},
     "output_type": "execute_result"
    }
   ],
   "source": [
    "# whats row has the top 10 maxiimum of the afe_analyst_i\n",
    "guck = df.nlargest(1000, 'afe_analyst_i')\n",
    "guck"
   ]
  },
  {
   "cell_type": "code",
   "execution_count": 37,
   "metadata": {},
   "outputs": [
    {
     "data": {
      "image/png": "[encoded data removed]",
      "text/plain": [
       "<Figure size 1500x600 with 1 Axes>"
      ]
     },
     "metadata": {},
     "output_type": "display_data"
    }
   ],
   "source": [
    "# plot the error afe_analyst_ijt_mean over time for the fiscal_periods_ending\n",
    "\n",
    "# extract year from fiscal_period_ending\n",
    "df['fiscal_period_ending'] = pd.to_datetime(df['fiscal_period_ending'])\n",
    "df['year'] = df['fiscal_period_ending'].dt.year\n",
    "\n",
    "# line plot the error afe_analyst_ijt_mean over time for the fiscal_periods_ending between 2017 and 2022\n",
    "df = df[(df['year'] >= 2017) & (df['year'] <= 2022)]\n",
    "df = df.sort_values('fiscal_period_ending')\n",
    "\n",
    "plt.figure(figsize=(15, 6))\n",
    "sns.lineplot(x='fiscal_period_ending', y='afe_analyst_i', data=df)\n",
    "plt.title('Error afe_analyst_i over time')\n",
    "plt.show()\n",
    "\n"
   ]
  },
  {
   "cell_type": "markdown",
   "metadata": {},
   "source": [
    "# Linear Regression"
   ]
  },
  {
   "cell_type": "code",
   "execution_count": 20,
   "metadata": {},
   "outputs": [
    {
     "data": {
      "text/plain": [
       "0"
      ]
     },
     "execution_count": 20,
     "metadata": {},
     "output_type": "execute_result"
    }
   ],
   "source": [
    "df[\"pmafe\"].isna().sum()"
   ]
  },
  {
   "cell_type": "code",
   "execution_count": 22,
   "metadata": {},
   "outputs": [
    {
     "name": "stdout",
     "output_type": "stream",
     "text": [
      "<class 'pandas.core.frame.DataFrame'>\n",
      "RangeIndex: 328831 entries, 0 to 328830\n",
      "Data columns (total 19 columns):\n",
      " #   Column                      Non-Null Count   Dtype  \n",
      "---  ------                      --------------   -----  \n",
      " 0   Unnamed: 0                  328831 non-null  int64  \n",
      " 1   ibes_ticker_pk              328831 non-null  object \n",
      " 2   official_ticker             327649 non-null  object \n",
      " 3   company_name                327653 non-null  object \n",
      " 4   estimator                   328831 non-null  int64  \n",
      " 5   analyst                     328831 non-null  int64  \n",
      " 6   estimated_eps               328831 non-null  float64\n",
      " 7   fiscal_period_ending        328831 non-null  object \n",
      " 8   revision_date               328831 non-null  object \n",
      " 9   announce_date               328831 non-null  object \n",
      " 10  actual_eps                  328831 non-null  float64\n",
      " 11  announce_date_actual        328831 non-null  object \n",
      " 12  forecast_horizon            328831 non-null  object \n",
      " 13  mean_forecast_horizon_days  328831 non-null  int64  \n",
      " 14  afe_analyst_i               328831 non-null  float64\n",
      " 15  afe_analyst_ijt_mean        328831 non-null  float64\n",
      " 16  afe_firm_jt_mean            328831 non-null  float64\n",
      " 17  pmafe                       328831 non-null  float64\n",
      " 18  analyst_count               328831 non-null  int64  \n",
      "dtypes: float64(6), int64(5), object(8)\n",
      "memory usage: 47.7+ MB\n"
     ]
    }
   ],
   "source": [
    "df.info()"
   ]
  },
  {
   "cell_type": "code",
   "execution_count": 23,
   "metadata": {},
   "outputs": [],
   "source": [
    "df[\"mean_forecast_horizon_days\"] = df[\"mean_forecast_horizon_days\"].astype(int)"
   ]
  },
  {
   "cell_type": "markdown",
   "metadata": {},
   "source": [
    "Fixed effects"
   ]
  },
  {
   "cell_type": "code",
   "execution_count": 25,
   "metadata": {},
   "outputs": [],
   "source": [
    "# Perform mean aggregation\n",
    "subset_df = df[[\"analyst\", \"estimator\", \"mean_forecast_horizon_days\", \"pmafe\", \"analyst_count\"]]\n",
    "mean_df = subset_df.groupby(\"analyst\").mean()\n",
    "demeaned_df = subset_df.set_index(\"analyst\") - mean_df"
   ]
  },
  {
   "cell_type": "code",
   "execution_count": 26,
   "metadata": {},
   "outputs": [
    {
     "name": "stdout",
     "output_type": "stream",
     "text": [
      "                                 OLS Regression Results                                \n",
      "=======================================================================================\n",
      "Dep. Variable:                  pmafe   R-squared (uncentered):                   0.031\n",
      "Model:                            OLS   Adj. R-squared (uncentered):              0.031\n",
      "Method:                 Least Squares   F-statistic:                              3551.\n",
      "Date:                Fri, 01 Mar 2024   Prob (F-statistic):                        0.00\n",
      "Time:                        16:43:45   Log-Likelihood:                     -3.2168e+05\n",
      "No. Observations:              328831   AIC:                                  6.434e+05\n",
      "Df Residuals:                  328828   BIC:                                  6.434e+05\n",
      "Df Model:                           3                                                  \n",
      "Covariance Type:            nonrobust                                                  \n",
      "==============================================================================================\n",
      "                                 coef    std err          t      P>|t|      [0.025      0.975]\n",
      "----------------------------------------------------------------------------------------------\n",
      "estimator                  -4.385e-06   2.28e-06     -1.926      0.054   -8.85e-06    7.67e-08\n",
      "mean_forecast_horizon_days     0.0022   2.13e-05    103.055      0.000       0.002       0.002\n",
      "analyst_count                 -0.0004   2.78e-05    -14.534      0.000      -0.000      -0.000\n",
      "==============================================================================\n",
      "Omnibus:                   560523.627   Durbin-Watson:                   1.824\n",
      "Prob(Omnibus):                  0.000   Jarque-Bera (JB):       3900002486.026\n",
      "Skew:                          10.997   Prob(JB):                         0.00\n",
      "Kurtosis:                     536.068   Cond. No.                         12.3\n",
      "==============================================================================\n",
      "\n",
      "Notes:\n",
      "[1] R² is computed without centering (uncentered) since the model does not contain a constant.\n",
      "[2] Standard Errors assume that the covariance matrix of the errors is correctly specified.\n"
     ]
    }
   ],
   "source": [
    "print(OLS(demeaned_df['pmafe'], demeaned_df[['estimator', \"mean_forecast_horizon_days\", \"analyst_count\"]]).fit().summary())"
   ]
  },
  {
   "cell_type": "code",
   "execution_count": null,
   "metadata": {},
   "outputs": [],
   "source": []
  },
  {
   "cell_type": "markdown",
   "metadata": {},
   "source": [
    "# EDA"
   ]
  },
  {
   "cell_type": "markdown",
   "metadata": {},
   "source": [
    "## Broker size"
   ]
  },
  {
   "cell_type": "code",
   "execution_count": 3,
   "metadata": {},
   "outputs": [
    {
     "data": {
      "text/plain": [
       "658"
      ]
     },
     "execution_count": 3,
     "metadata": {},
     "output_type": "execute_result"
    }
   ],
   "source": [
    "# count of distinct estimator (broker)\n",
    "estimators = df['estimator'].nunique()\n",
    "estimators"
   ]
  },
  {
   "cell_type": "code",
   "execution_count": 4,
   "metadata": {},
   "outputs": [
    {
     "data": {
      "text/plain": [
       "211"
      ]
     },
     "execution_count": 4,
     "metadata": {},
     "output_type": "execute_result"
    }
   ],
   "source": [
    "# count the number of analysts of estimator 1267\n",
    "analyst_count = df[df['estimator'] == 1267]['analyst'].nunique()\n",
    "analyst_count"
   ]
  },
  {
   "cell_type": "code",
   "execution_count": 13,
   "metadata": {},
   "outputs": [
    {
     "data": {
      "image/png": "[encoded data removed]",
      "text/plain": [
       "<Figure size 640x480 with 1 Axes>"
      ]
     },
     "metadata": {},
     "output_type": "display_data"
    }
   ],
   "source": [
    "# plot the distribution of the count of analysts at each broker\n",
    "analyst_count_dist = df.groupby('estimator')['analyst'].nunique().reset_index()\n",
    "\n",
    "# plot histogram\n",
    "plt.hist(analyst_count_dist['analyst'], bins=30)\n",
    "plt.title('Distribution of Analysts per Broker')\n",
    "plt.xlabel('Analyst Count')\n",
    "plt.ylabel('Broker Count')\n",
    "plt.show()\n"
   ]
  },
  {
   "cell_type": "code",
   "execution_count": 15,
   "metadata": {},
   "outputs": [
    {
     "name": "stdout",
     "output_type": "stream",
     "text": [
      "639\n",
      "719\n",
      "889\n"
     ]
    }
   ],
   "source": [
    "df['announce_year'] = pd.to_datetime(df['announce_date']).dt.year\n",
    "\n",
    "# group by broker with more than 1000, more than 2500 and more than 5000 analysts per year\n",
    "count_100 = df.groupby(['estimator', 'announce_year']).size().reset_index(name='count').sort_values(by='count', ascending=False).query('count > 100').shape[0]\n",
    "count_75 = df.groupby(['estimator', 'announce_year']).size().reset_index(name='count').sort_values(by='count', ascending=False).query('count > 75').shape[0]\n",
    "count_50 = df.groupby(['estimator', 'announce_year']).size().reset_index(name='count').sort_values(by='count', ascending=False).query('count > 50').shape[0]\n",
    "\n",
    "print(count_100)\n",
    "print(count_75)\n",
    "print(count_50)"
   ]
  },
  {
   "cell_type": "code",
   "execution_count": 39,
   "metadata": {},
   "outputs": [
    {
     "data": {
      "text/plain": [
       "estimator  announce_year\n",
       "11         2015             1064\n",
       "           2016             1292\n",
       "           2017             1304\n",
       "           2018             1423\n",
       "           2019             1422\n",
       "                            ... \n",
       "4554       2022                2\n",
       "4555       2022                1\n",
       "4560       2022                1\n",
       "4562       2022                1\n",
       "4566       2022                2\n",
       "Length: 3515, dtype: int64"
      ]
     },
     "execution_count": 39,
     "metadata": {},
     "output_type": "execute_result"
    }
   ],
   "source": [
    "df.groupby(['estimator', 'announce_year']).size()"
   ]
  },
  {
   "cell_type": "code",
   "execution_count": 8,
   "metadata": {},
   "outputs": [
    {
     "name": "stderr",
     "output_type": "stream",
     "text": [
      "c:\\Users\\mariu\\mambaforge\\envs\\learn-env\\Lib\\site-packages\\seaborn\\categorical.py:632: FutureWarning: SeriesGroupBy.grouper is deprecated and will be removed in a future version of pandas.\n",
      "  positions = grouped.grouper.result_index.to_numpy(dtype=float)\n"
     ]
    },
    {
     "data": {
      "image/png": "[encoded data removed]",
      "text/plain": [
       "<Figure size 640x480 with 1 Axes>"
      ]
     },
     "metadata": {},
     "output_type": "display_data"
    },
    {
     "name": "stdout",
     "output_type": "stream",
     "text": [
      "count      671.000000\n",
      "mean      2049.554396\n",
      "std       6881.741629\n",
      "min          1.000000\n",
      "25%         16.000000\n",
      "50%         92.000000\n",
      "75%        699.500000\n",
      "max      63137.000000\n",
      "Name: count, dtype: float64\n"
     ]
    }
   ],
   "source": [
    "# boxplot of analyst per broker\n",
    "sns.boxplot(x=df['estimator'].value_counts())\n",
    "plt.title('Boxplot of analyst per broker')\n",
    "plt.xlabel('Count of analysts')\n",
    "plt.show()\n",
    "print(df['estimator'].value_counts().describe())"
   ]
  },
  {
   "cell_type": "markdown",
   "metadata": {},
   "source": [
    "## Analysts"
   ]
  },
  {
   "cell_type": "code",
   "execution_count": 9,
   "metadata": {},
   "outputs": [
    {
     "data": {
      "text/plain": [
       "10237"
      ]
     },
     "execution_count": 9,
     "metadata": {},
     "output_type": "execute_result"
    }
   ],
   "source": [
    "# number of disinct analysts\n",
    "analysts = df['analyst'].nunique()\n",
    "analysts"
   ]
  },
  {
   "cell_type": "code",
   "execution_count": 23,
   "metadata": {},
   "outputs": [
    {
     "data": {
      "image/png": "[encoded data removed]",
      "text/plain": [
       "<Figure size 640x480 with 2 Axes>"
      ]
     },
     "metadata": {},
     "output_type": "display_data"
    }
   ],
   "source": [
    "df['fiscal_period_ending'] = pd.to_datetime(df['fiscal_period_ending'])\n",
    "df['announce_year'] = df['fiscal_period_ending'].dt.year \n",
    "df = df[(df['announce_year'] >= 2014) & (df['announce_year'] <= 2022)]\n",
    "\n",
    "# sum of forecasts over all analyst per year\n",
    "forecast_count = df.groupby('announce_year')['analyst'].count()\n",
    "analyst_count = df.groupby('announce_year')['analyst'].nunique()\n",
    "\n",
    "fig, ax1 = plt.subplots()\n",
    "ax1.plot(forecast_count.index, forecast_count.values, color='blue')\n",
    "ax1.set_xlabel('Year')\n",
    "ax1.set_ylabel('Forecast Count', color='blue')\n",
    "\n",
    "# Create a second axis\n",
    "ax2 = ax1.twinx()\n",
    "\n",
    "# Plot the analyst count on the second axis\n",
    "ax2.plot(analyst_count.index, analyst_count.values, color='red')\n",
    "ax2.set_ylabel('Analyst Count', color='red')\n",
    "\n",
    "plt.title('Trend of analyst and forecast count over time')\n",
    "plt.show()\n"
   ]
  },
  {
   "cell_type": "markdown",
   "metadata": {},
   "source": [
    "# Coverage"
   ]
  }
 ],
 "metadata": {
  "kernelspec": {
   "display_name": "Python 3",
   "language": "python",
   "name": "python3"
  },
  "language_info": {
   "codemirror_mode": {
    "name": "ipython",
    "version": 3
   },
   "file_extension": ".py",
   "mimetype": "text/x-python",
   "name": "python",
   "nbconvert_exporter": "python",
   "pygments_lexer": "ipython3",
   "version": "3.11.5"
  }
 },
 "nbformat": 4,
 "nbformat_minor": 2
}
